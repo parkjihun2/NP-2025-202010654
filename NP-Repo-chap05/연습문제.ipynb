{
 "cells": [
  {
   "cell_type": "markdown",
   "id": "e2eb0d82",
   "metadata": {},
   "source": [
    "202010654박지훈"
   ]
  },
  {
   "cell_type": "markdown",
   "id": "c28f16eb",
   "metadata": {},
   "source": [
    "1. 두 개의 매개변수 n,m을 전달받아 m x n 개의 *상자를 출력하는 프로그램을 함수로 작성"
   ]
  },
  {
   "cell_type": "markdown",
   "id": "9848fc9a",
   "metadata": {},
   "source": [
    "2. 하나의 숫자를 전달받아 숫자의 자리 합을 구하는 함수를 작성\n",
    "\n",
    "예: 123>1+2+3=6"
   ]
  },
  {
   "cell_type": "markdown",
   "id": "0d27e324",
   "metadata": {},
   "source": [
    "3. 두 개의 문자열이 서로 다른 처음 위치를 반환하는 함수를 작성, 두 개의 문자열이 같으면 -1을 반환"
   ]
  },
  {
   "cell_type": "markdown",
   "id": "03612301",
   "metadata": {},
   "source": [
    "4. 숫자를 전달받아 그 수의 약수를 리스트로 반환하는 함수를 작성"
   ]
  },
  {
   "cell_type": "markdown",
   "id": "094c0553",
   "metadata": {},
   "source": [
    "5. 문자열과 하나의 문자를 전달받아 문자열에서 문자의 위치를 모두 찾아 리스트로 반환하는 함수를 작성"
   ]
  },
  {
   "cell_type": "markdown",
   "id": "9a454f9e",
   "metadata": {},
   "source": [
    "6. 재귀 함수를 이용하여 1부터 100까지의 합을 계산하는 프로그램"
   ]
  }
 ],
 "metadata": {
  "language_info": {
   "name": "python"
  }
 },
 "nbformat": 4,
 "nbformat_minor": 5
}
