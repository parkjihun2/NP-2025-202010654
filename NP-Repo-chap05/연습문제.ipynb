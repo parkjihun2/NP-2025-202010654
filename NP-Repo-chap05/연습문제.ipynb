{
 "cells": [
  {
   "cell_type": "markdown",
   "id": "1f74c619",
   "metadata": {},
   "source": [
    "1. 반지름을 전달하면 원의 면적을 반환하는 cir_area(r)함수와 원의 둘레를 반환하는 cir_cirm(r)함수를 작성하라. 이들 함수를 이용하여 반지름이 3.5cm인 원의 면적과 둘레를 소수점 아래 첫 자리까지 구하라."
   ]
  },
  {
   "cell_type": "markdown",
   "id": "c28f16eb",
   "metadata": {},
   "source": [
    "2. 두 개의 매개변수 n,m을 전달받아 m x n 개의 *상자를 출력하는 프로그램을 함수로 작성"
   ]
  },
  {
   "cell_type": "markdown",
   "id": "9848fc9a",
   "metadata": {},
   "source": [
    "3. 하나의 숫자를 전달받아 숫자의 자리 합을 구하는 함수를 작성\n",
    "\n",
    "예: 123>1+2+3=6"
   ]
  },
  {
   "cell_type": "markdown",
   "id": "0d27e324",
   "metadata": {},
   "source": [
    "4. 두 개의 문자열이 서로 다른 처음 위치를 반환하는 함수를 작성, 두 개의 문자열이 같으면 -1을 반환"
   ]
  },
  {
   "cell_type": "markdown",
   "id": "03612301",
   "metadata": {},
   "source": [
    "5. 숫자를 전달받아 그 수의 약수를 리스트로 반환하는 함수를 작성"
   ]
  },
  {
   "cell_type": "markdown",
   "id": "094c0553",
   "metadata": {},
   "source": [
    "6. 문자열과 하나의 문자를 전달받아 문자열에서 문자의 위치를 모두 찾아 리스트로 반환하는 함수를 작성"
   ]
  },
  {
   "cell_type": "markdown",
   "id": "9a454f9e",
   "metadata": {},
   "source": [
    "7. 재귀 함수를 이용하여 1부터 100까지의 합을 계산하는 프로그램"
   ]
  },
  {
   "cell_type": "markdown",
   "id": "a0ffb761",
   "metadata": {},
   "source": [
    "sad"
   ]
  }
 ],
 "metadata": {
  "language_info": {
   "name": "python"
  }
 },
 "nbformat": 4,
 "nbformat_minor": 5
}
