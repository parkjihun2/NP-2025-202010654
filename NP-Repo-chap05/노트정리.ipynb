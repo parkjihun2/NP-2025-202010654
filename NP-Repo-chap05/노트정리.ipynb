{
 "cells": [
  {
   "cell_type": "code",
   "execution_count": 1,
   "id": "d6e392dc",
   "metadata": {},
   "outputs": [
    {
     "name": "stdout",
     "output_type": "stream",
     "text": [
      "Hello,  John\n"
     ]
    }
   ],
   "source": [
    "def welcome(name):\n",
    "    print(\"Hello, \", name)\n",
    "\n",
    "welcome('John')"
   ]
  },
  {
   "cell_type": "code",
   "execution_count": 2,
   "id": "cc67fcbf",
   "metadata": {},
   "outputs": [
    {
     "name": "stdout",
     "output_type": "stream",
     "text": [
      "Wecome to Python\n"
     ]
    }
   ],
   "source": [
    "def prtStr(str):\n",
    "    print(\"%s\" %str)\n",
    "    return\n",
    "\n",
    "str=\"Wecome to Python\"\n",
    "prtStr(str)"
   ]
  },
  {
   "cell_type": "code",
   "execution_count": 3,
   "id": "3889268d",
   "metadata": {},
   "outputs": [
    {
     "name": "stdout",
     "output_type": "stream",
     "text": [
      "한변의 길이가 5인 정사각형의 넓이는 25\n",
      "한변의 길이가 7인 정사각형의 넓이는 49\n"
     ]
    }
   ],
   "source": [
    "def squareArea(s):\n",
    "    area = s * s\n",
    "    return area\n",
    "\n",
    "a=squareArea(5)\n",
    "b=squareArea(7)\n",
    "print(\"한변의 길이가 %d인 정사각형의 넓이는 %d\" %(5,a))\n",
    "print(\"한변의 길이가 %d인 정사각형의 넓이는 %d\" %(7,b))"
   ]
  },
  {
   "cell_type": "code",
   "execution_count": 4,
   "id": "e33d1166",
   "metadata": {},
   "outputs": [
    {
     "name": "stdout",
     "output_type": "stream",
     "text": [
      "1275\n",
      "5050\n"
     ]
    }
   ],
   "source": [
    "def sum(n):\n",
    "    hab=0\n",
    "    for i in range(1,n+1):\n",
    "        hab=hab+i\n",
    "    return hab\n",
    "a=sum(50)\n",
    "b=sum(100)\n",
    "print(a)\n",
    "print(b)"
   ]
  },
  {
   "cell_type": "code",
   "execution_count": 5,
   "id": "3a879308",
   "metadata": {},
   "outputs": [
    {
     "name": "stdout",
     "output_type": "stream",
     "text": [
      "func1()의 v=10\n",
      "func2()의 v=20\n"
     ]
    }
   ],
   "source": [
    "def func1():\n",
    "    v=10\n",
    "    print(\"func1()의 v=%d\" % v)\n",
    "\n",
    "def func2():\n",
    "    print(\"func2()의 v=%d\" % v)\n",
    "\n",
    "v=20\n",
    "func1()\n",
    "func2()"
   ]
  },
  {
   "cell_type": "code",
   "execution_count": 6,
   "id": "5ec46ab2",
   "metadata": {},
   "outputs": [
    {
     "name": "stdout",
     "output_type": "stream",
     "text": [
      "func1()의 v= 10\n",
      "func2()의 v= 30\n",
      "30\n"
     ]
    }
   ],
   "source": [
    "def func1():\n",
    "    v=10\n",
    "    print(\"func1()의 v= %d\" % v)\n",
    "\n",
    "def func2():\n",
    "    global v\n",
    "    v=30\n",
    "    print(\"func2()의 v= %d\" % v)\n",
    "\n",
    "v=20\n",
    "func1()\n",
    "func2()\n",
    "print(v)"
   ]
  },
  {
   "cell_type": "code",
   "execution_count": 7,
   "id": "8c6a0810",
   "metadata": {},
   "outputs": [
    {
     "name": "stdout",
     "output_type": "stream",
     "text": [
      "default\n",
      "Hi!Hi!Hi!Hi!Hi!\n"
     ]
    }
   ],
   "source": [
    "def prtMesg(message, count=1):\n",
    "    print(message * count)\n",
    "prtMesg('default')\n",
    "prtMesg('Hi!', 5)\n"
   ]
  },
  {
   "cell_type": "code",
   "execution_count": 9,
   "id": "9fd2e038",
   "metadata": {},
   "outputs": [
    {
     "name": "stdout",
     "output_type": "stream",
     "text": [
      "Hi! Abe,Nothing new?\n",
      "Hi! Bob,Good morning!\n"
     ]
    }
   ],
   "source": [
    "def greet(name, msg=\"Nothing new?\"):\n",
    "    print(\"Hi!\", name+','+msg)\n",
    "greet(\"Abe\")\n",
    "greet(\"Bob\", \"Good morning!\")"
   ]
  },
  {
   "cell_type": "code",
   "execution_count": 10,
   "id": "cb8d0e70",
   "metadata": {},
   "outputs": [
    {
     "name": "stdout",
     "output_type": "stream",
     "text": [
      "6\n",
      "15\n"
     ]
    }
   ],
   "source": [
    "def total(*numbers):\n",
    "    sum=0\n",
    "    for n in numbers:\n",
    "        sum+=n\n",
    "    return sum\n",
    "print(total(1,2,3))\n",
    "print(total(1,2,3,4,5,))"
   ]
  },
  {
   "cell_type": "code",
   "execution_count": 11,
   "id": "607802f7",
   "metadata": {},
   "outputs": [
    {
     "name": "stdout",
     "output_type": "stream",
     "text": [
      "George : 1-th president\n",
      "Abe : 16-th president\n",
      "Trump : 45-th president\n"
     ]
    }
   ],
   "source": [
    "def dicPresident(**keywords):\n",
    "    for i in keywords.keys():\n",
    "        print(\"%s : %d-th president\" %(i, keywords[i]))\n",
    "dicPresident(George=1, Abe=16, Trump=45)"
   ]
  },
  {
   "cell_type": "code",
   "execution_count": 12,
   "id": "e55ee091",
   "metadata": {},
   "outputs": [
    {
     "name": "stdout",
     "output_type": "stream",
     "text": [
      "a= 4 b= 5 c= 3\n",
      "12\n",
      "a= 5 b= 2 c= 7\n",
      "14\n"
     ]
    }
   ],
   "source": [
    "def func(a, b=2, c=3):\n",
    "    print('a=', a, 'b=', b, 'c=', c)\n",
    "    return a + b + c\n",
    "print(func(4,5))\n",
    "print(func(5,c=7))"
   ]
  },
  {
   "cell_type": "markdown",
   "id": "4a77ee88",
   "metadata": {},
   "source": [
    "202010654박지훈"
   ]
  },
  {
   "cell_type": "code",
   "execution_count": 13,
   "id": "90bf74d4",
   "metadata": {},
   "outputs": [
    {
     "name": "stdout",
     "output_type": "stream",
     "text": [
      "정수의 합: 30\n",
      "정수의 합: 40\n"
     ]
    }
   ],
   "source": [
    "sum=lambda x, y: x+y\n",
    "print(\"정수의 합:\", sum(10,20))\n",
    "print(\"정수의 합:\", sum(20,20))"
   ]
  },
  {
   "cell_type": "code",
   "execution_count": 14,
   "id": "c3d0d5d9",
   "metadata": {},
   "outputs": [
    {
     "data": {
      "text/plain": [
       "7"
      ]
     },
     "execution_count": 14,
     "metadata": {},
     "output_type": "execute_result"
    }
   ],
   "source": [
    "eval('1+2*3')"
   ]
  },
  {
   "cell_type": "code",
   "execution_count": 15,
   "id": "ee689291",
   "metadata": {},
   "outputs": [
    {
     "data": {
      "text/plain": [
       "123"
      ]
     },
     "execution_count": 15,
     "metadata": {},
     "output_type": "execute_result"
    }
   ],
   "source": [
    "int(\"123\")"
   ]
  },
  {
   "cell_type": "code",
   "execution_count": 16,
   "id": "8a618237",
   "metadata": {},
   "outputs": [
    {
     "data": {
      "text/plain": [
       "10"
      ]
     },
     "execution_count": 16,
     "metadata": {},
     "output_type": "execute_result"
    }
   ],
   "source": [
    "int('1010', 2)"
   ]
  },
  {
   "cell_type": "code",
   "execution_count": 17,
   "id": "26208725",
   "metadata": {},
   "outputs": [
    {
     "name": "stdout",
     "output_type": "stream",
     "text": [
      "<map object at 0x0000019A7F97E3E0>\n"
     ]
    }
   ],
   "source": [
    "def Squares(n):\n",
    "    return n**2\n",
    "numbers=[1,3,5,9]\n",
    "print(map(Squares, numbers))"
   ]
  },
  {
   "cell_type": "code",
   "execution_count": 18,
   "id": "4388a0c2",
   "metadata": {},
   "outputs": [
    {
     "data": {
      "text/plain": [
       "12.3"
      ]
     },
     "execution_count": 18,
     "metadata": {},
     "output_type": "execute_result"
    }
   ],
   "source": [
    "round(12.345,1)"
   ]
  },
  {
   "cell_type": "code",
   "execution_count": 19,
   "id": "4251608d",
   "metadata": {},
   "outputs": [
    {
     "data": {
      "text/plain": [
       "12.35"
      ]
     },
     "execution_count": 19,
     "metadata": {},
     "output_type": "execute_result"
    }
   ],
   "source": [
    "round(12.345,2)"
   ]
  }
 ],
 "metadata": {
  "kernelspec": {
   "display_name": "Python 3",
   "language": "python",
   "name": "python3"
  },
  "language_info": {
   "codemirror_mode": {
    "name": "ipython",
    "version": 3
   },
   "file_extension": ".py",
   "mimetype": "text/x-python",
   "name": "python",
   "nbconvert_exporter": "python",
   "pygments_lexer": "ipython3",
   "version": "3.11.9"
  }
 },
 "nbformat": 4,
 "nbformat_minor": 5
}
