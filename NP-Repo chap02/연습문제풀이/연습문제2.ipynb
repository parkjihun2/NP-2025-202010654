{
 "cells": [
  {
   "cell_type": "markdown",
   "id": "f1f5e1a0",
   "metadata": {},
   "source": [
    "202010654 박지훈"
   ]
  },
  {
   "cell_type": "markdown",
   "id": "2ffeae3d",
   "metadata": {},
   "source": [
    "1. 초를 입력하면 분과 초로 표시하는 프로그램. 예를 들어, 200초를 입력하면 3분 20초로 표한하라"
   ]
  },
  {
   "cell_type": "code",
   "execution_count": 3,
   "id": "9d17bbfc",
   "metadata": {},
   "outputs": [
    {
     "name": "stdout",
     "output_type": "stream",
     "text": [
      "3분 20초\n"
     ]
    }
   ],
   "source": [
    "sec=int(input(\"초:\"))\n",
    "min=sec//60\n",
    "s=sec%60\n",
    "print(f\"{min}분 {s}초\")"
   ]
  },
  {
   "cell_type": "markdown",
   "id": "0a991214",
   "metadata": {},
   "source": [
    "2. 분(min)을 입력하면, 일, 시간, 분으로 출력하는 프로그램을 만들어라 (예 : 1550분은 1일 1시간 50분)"
   ]
  },
  {
   "cell_type": "code",
   "execution_count": 4,
   "id": "7f924a05",
   "metadata": {},
   "outputs": [
    {
     "name": "stdout",
     "output_type": "stream",
     "text": [
      "1일 1시간50분\n"
     ]
    }
   ],
   "source": [
    "min=int(input(\"time \"))\n",
    "d=min//(24*60)\n",
    "h=(min%(24*60))//60\n",
    "m=min%60\n",
    "print(f\"{d}일 {h}시간{m}분\")"
   ]
  },
  {
   "cell_type": "markdown",
   "id": "1c84083e",
   "metadata": {},
   "source": [
    "3. 500만원을 년이율 5%로 복리 저금 했을 때 5년 후의 원리금의 합계를 출력하는 프로그램"
   ]
  },
  {
   "cell_type": "code",
   "execution_count": 2,
   "id": "5e214cb4",
   "metadata": {},
   "outputs": [
    {
     "name": "stdout",
     "output_type": "stream",
     "text": [
      "5년 후: 6381407.81원\n"
     ]
    }
   ],
   "source": [
    "principal=5000000\n",
    "rate=0.05\n",
    "years=5\n",
    "final_amount = principal * (1+rate)**years\n",
    "print(f\"5년 후: {final_amount:.2f}원\")"
   ]
  },
  {
   "cell_type": "markdown",
   "id": "003a1611",
   "metadata": {},
   "source": [
    "4. 1부터 n까지의 합은 n(n+1)/2로 주어진다. 1부터 100까지의 합을 구하여 출력하는 프로그램을 작성하고 실행하라"
   ]
  },
  {
   "cell_type": "code",
   "execution_count": 3,
   "id": "ffceeb00",
   "metadata": {},
   "outputs": [
    {
     "name": "stdout",
     "output_type": "stream",
     "text": [
      "1부터 100까지의 합: 5050\n"
     ]
    }
   ],
   "source": [
    "n=100\n",
    "sum_n=n*(n+1) //2\n",
    "print(f\"1부터 {n}까지의 합: {sum_n}\")"
   ]
  },
  {
   "cell_type": "markdown",
   "id": "c87dc203",
   "metadata": {},
   "source": [
    "5. 판매자가 딸기와 포도를 판매하고 있다. 포도 한 알의 무게는 75g이고 딸기 한 알의 무게는 113.5g이다. 사용자로부터 포도 알의 개수와 딸기의 개수를 입력받아 총 무게를 계산하여 출력하는 프로그램을 작성하고 실행하라"
   ]
  },
  {
   "cell_type": "code",
   "execution_count": null,
   "id": "777fc264",
   "metadata": {},
   "outputs": [],
   "source": [
    "grape_weight=75\n",
    "strawberry_weight=113.5\n",
    "num_grapes=int(input(\"포도 알 개수 : \"))\n",
    "num_strawberries = int(input(\"딸기 알 개수 입력: \"))\n",
    "total_weight = grape_weight * num_grapes + strawberry_weight * num_strawberries\n",
    "print(f\"총 무게: {total_weight}g\")"
   ]
  }
 ],
 "metadata": {
  "kernelspec": {
   "display_name": "Python 3",
   "language": "python",
   "name": "python3"
  },
  "language_info": {
   "codemirror_mode": {
    "name": "ipython",
    "version": 3
   },
   "file_extension": ".py",
   "mimetype": "text/x-python",
   "name": "python",
   "nbconvert_exporter": "python",
   "pygments_lexer": "ipython3",
   "version": "3.11.9"
  }
 },
 "nbformat": 4,
 "nbformat_minor": 5
}
