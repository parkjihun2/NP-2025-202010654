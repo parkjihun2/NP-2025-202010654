{
 "cells": [
  {
   "cell_type": "markdown",
   "id": "f239d286",
   "metadata": {},
   "source": [
    "202010654 박지훈"
   ]
  },
  {
   "cell_type": "markdown",
   "id": "d31bf487",
   "metadata": {},
   "source": [
    "1. 5와 3을 더한 값을 출력하는 프로그램을 작성하라."
   ]
  },
  {
   "cell_type": "code",
   "execution_count": 1,
   "id": "9ba062c8",
   "metadata": {},
   "outputs": [
    {
     "data": {
      "text/plain": [
       "8"
      ]
     },
     "execution_count": 1,
     "metadata": {},
     "output_type": "execute_result"
    }
   ],
   "source": [
    "5+3"
   ]
  },
  {
   "cell_type": "markdown",
   "id": "f661d009",
   "metadata": {},
   "source": [
    "2. 7에서 3을 뺀 값을 출력하는 프로그램을 작성하라"
   ]
  },
  {
   "cell_type": "code",
   "execution_count": 2,
   "id": "2aa9e146",
   "metadata": {},
   "outputs": [
    {
     "data": {
      "text/plain": [
       "4"
      ]
     },
     "execution_count": 2,
     "metadata": {},
     "output_type": "execute_result"
    }
   ],
   "source": [
    "7-3"
   ]
  },
  {
   "cell_type": "markdown",
   "id": "d003593c",
   "metadata": {},
   "source": [
    "3. 4를 2로 나눈 값을 출력하는 프로그램을 작성하라."
   ]
  },
  {
   "cell_type": "code",
   "execution_count": 4,
   "id": "627cebec",
   "metadata": {},
   "outputs": [
    {
     "data": {
      "text/plain": [
       "2"
      ]
     },
     "execution_count": 4,
     "metadata": {},
     "output_type": "execute_result"
    }
   ],
   "source": [
    "4//2"
   ]
  },
  {
   "cell_type": "markdown",
   "id": "50c708e9",
   "metadata": {},
   "source": [
    "4. 8을 3으로 나눈 몫과 나머지를 출력하는 프로그램을 작성하라"
   ]
  },
  {
   "cell_type": "code",
   "execution_count": 8,
   "id": "246411cc",
   "metadata": {},
   "outputs": [
    {
     "data": {
      "text/plain": [
       "(2, 2)"
      ]
     },
     "execution_count": 8,
     "metadata": {},
     "output_type": "execute_result"
    }
   ],
   "source": [
    "8//3, 8%3"
   ]
  },
  {
   "cell_type": "markdown",
   "id": "5d2d5f88",
   "metadata": {},
   "source": [
    "5. 2의 5제곱을 출력하는 프로그램을 작성하라"
   ]
  },
  {
   "cell_type": "code",
   "execution_count": 9,
   "id": "dd6a1fa2",
   "metadata": {},
   "outputs": [
    {
     "data": {
      "text/plain": [
       "32"
      ]
     },
     "execution_count": 9,
     "metadata": {},
     "output_type": "execute_result"
    }
   ],
   "source": [
    "2**5"
   ]
  },
  {
   "cell_type": "markdown",
   "id": "19ba27ae",
   "metadata": {},
   "source": [
    "6. 입력된 정수가 10보다 크고 20보다 작은지 검사하는 프로그램을 작성하라"
   ]
  },
  {
   "cell_type": "code",
   "execution_count": 13,
   "id": "2f492dac",
   "metadata": {},
   "outputs": [
    {
     "name": "stdout",
     "output_type": "stream",
     "text": [
      "True\n",
      "False\n"
     ]
    }
   ],
   "source": [
    "a=int(input(\"Number : \"))\n",
    "print(a>10)\n",
    "print(a<20)"
   ]
  },
  {
   "cell_type": "markdown",
   "id": "d930db53",
   "metadata": {},
   "source": [
    "7. 문자열 \"hello와 문자열 \"worid\"를 이어 붙인 결과를 출력하는 프로그램을 작성하라"
   ]
  },
  {
   "cell_type": "code",
   "execution_count": 14,
   "id": "06a863ec",
   "metadata": {},
   "outputs": [
    {
     "name": "stdout",
     "output_type": "stream",
     "text": [
      "helloworld\n"
     ]
    }
   ],
   "source": [
    "print(\"hello\"+\"world\")"
   ]
  },
  {
   "cell_type": "markdown",
   "id": "2345df2c",
   "metadata": {},
   "source": [
    "8. 7을 2로 나눈 결과 가 3보다 작은지 검사하는 프로그램을 작성하라"
   ]
  },
  {
   "cell_type": "code",
   "execution_count": 16,
   "id": "42c9c0f4",
   "metadata": {},
   "outputs": [
    {
     "name": "stdout",
     "output_type": "stream",
     "text": [
      "False\n"
     ]
    }
   ],
   "source": [
    "a=7//2\n",
    "print(a<3)"
   ]
  },
  {
   "cell_type": "markdown",
   "id": "42c614fb",
   "metadata": {},
   "source": [
    "9. 변수 x의 값이 5와 같지 않은지 검사하는 프로그램을 작성하라"
   ]
  },
  {
   "cell_type": "code",
   "execution_count": 18,
   "id": "455d15cf",
   "metadata": {},
   "outputs": [
    {
     "name": "stdout",
     "output_type": "stream",
     "text": [
      "True\n"
     ]
    }
   ],
   "source": [
    "x=int(input(\"Number: \"))\n",
    "print(x == 5)"
   ]
  },
  {
   "cell_type": "markdown",
   "id": "0cd66a43",
   "metadata": {},
   "source": [
    "10. 변수 y의 값이 10에서 20사이의 값인지 검사하는 프로그램을 작성하라"
   ]
  },
  {
   "cell_type": "code",
   "execution_count": 21,
   "id": "6e294080",
   "metadata": {},
   "outputs": [
    {
     "name": "stdout",
     "output_type": "stream",
     "text": [
      "True\n",
      "False\n"
     ]
    }
   ],
   "source": [
    "y=int(input(\"Number: \"))\n",
    "print(y>10)\n",
    "print(y<20)"
   ]
  }
 ],
 "metadata": {
  "kernelspec": {
   "display_name": "Python 3",
   "language": "python",
   "name": "python3"
  },
  "language_info": {
   "codemirror_mode": {
    "name": "ipython",
    "version": 3
   },
   "file_extension": ".py",
   "mimetype": "text/x-python",
   "name": "python",
   "nbconvert_exporter": "python",
   "pygments_lexer": "ipython3",
   "version": "3.11.9"
  }
 },
 "nbformat": 4,
 "nbformat_minor": 5
}
