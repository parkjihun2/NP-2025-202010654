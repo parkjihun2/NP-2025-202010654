{
 "cells": [
  {
   "cell_type": "markdown",
   "id": "2a054486",
   "metadata": {},
   "source": [
    "202010654 박지훈"
   ]
  },
  {
   "cell_type": "markdown",
   "id": "2f6d325f",
   "metadata": {},
   "source": [
    "1. 키보드에서 임의의 두 실수를 입력 받아 곱한 후 그 결과를 출력하는 프로그램을 작성하고 실행하라"
   ]
  },
  {
   "cell_type": "code",
   "execution_count": 3,
   "id": "4e39c0a5",
   "metadata": {},
   "outputs": [
    {
     "name": "stdout",
     "output_type": "stream",
     "text": [
      "44.55\n"
     ]
    }
   ],
   "source": [
    "a=float(input('Number 1: '))\n",
    "b=float(input('Number 2: '))\n",
    "print(a*b)"
   ]
  },
  {
   "cell_type": "markdown",
   "id": "62f648ab",
   "metadata": {},
   "source": [
    "2. 1마일은 1.609km이다. 키보드에서 마일(정수)를 입력 받아 km로 변환해 출력하는 프로그램을 작성하고 실행하라"
   ]
  },
  {
   "cell_type": "code",
   "execution_count": 4,
   "id": "4afafa88",
   "metadata": {},
   "outputs": [
    {
     "name": "stdout",
     "output_type": "stream",
     "text": [
      "km는 12.872\n"
     ]
    }
   ],
   "source": [
    "m=int(input(\"마일 : \"))\n",
    "km=m*1.609\n",
    "print(\"km는\",km)"
   ]
  }
 ],
 "metadata": {
  "kernelspec": {
   "display_name": "Python 3",
   "language": "python",
   "name": "python3"
  },
  "language_info": {
   "codemirror_mode": {
    "name": "ipython",
    "version": 3
   },
   "file_extension": ".py",
   "mimetype": "text/x-python",
   "name": "python",
   "nbconvert_exporter": "python",
   "pygments_lexer": "ipython3",
   "version": "3.11.9"
  }
 },
 "nbformat": 4,
 "nbformat_minor": 5
}
