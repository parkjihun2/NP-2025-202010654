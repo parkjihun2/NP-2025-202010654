{
 "cells": [
  {
   "cell_type": "markdown",
   "id": "396a49d4",
   "metadata": {},
   "source": [
    "### 202010654 박지훈"
   ]
  },
  {
   "cell_type": "code",
   "execution_count": 1,
   "id": "ee94c72c",
   "metadata": {},
   "outputs": [
    {
     "name": "stdout",
     "output_type": "stream",
     "text": [
      "x =3\n"
     ]
    }
   ],
   "source": [
    "x = 3\n",
    "print(f\"x ={x}\")"
   ]
  },
  {
   "cell_type": "code",
   "execution_count": 2,
   "id": "f055aadc",
   "metadata": {},
   "outputs": [
    {
     "name": "stdout",
     "output_type": "stream",
     "text": [
      "30\n"
     ]
    }
   ],
   "source": [
    "print(10+20)"
   ]
  },
  {
   "cell_type": "code",
   "execution_count": 3,
   "id": "2acb913a",
   "metadata": {},
   "outputs": [
    {
     "name": "stdout",
     "output_type": "stream",
     "text": [
      "서원대\n"
     ]
    }
   ],
   "source": [
    "print(\"서원대\")"
   ]
  },
  {
   "cell_type": "code",
   "execution_count": 4,
   "id": "de6e571e",
   "metadata": {},
   "outputs": [
    {
     "name": "stdout",
     "output_type": "stream",
     "text": [
      "abcabcabc\n"
     ]
    }
   ],
   "source": [
    "print(\"abc\" *3)"
   ]
  },
  {
   "cell_type": "code",
   "execution_count": 5,
   "id": "9916336d",
   "metadata": {},
   "outputs": [
    {
     "name": "stdout",
     "output_type": "stream",
     "text": [
      "25 32\n"
     ]
    }
   ],
   "source": [
    "x=25\n",
    "y=32\n",
    "z= x+y\n",
    "print(x,y)"
   ]
  },
  {
   "cell_type": "code",
   "execution_count": 6,
   "id": "cf8500a2",
   "metadata": {},
   "outputs": [
    {
     "name": "stdout",
     "output_type": "stream",
     "text": [
      "25 + 32 = 57\n"
     ]
    }
   ],
   "source": [
    "print(x,'+', y, '=',z)"
   ]
  },
  {
   "cell_type": "code",
   "execution_count": 7,
   "id": "e5f6fdeb",
   "metadata": {},
   "outputs": [
    {
     "name": "stdout",
     "output_type": "stream",
     "text": [
      "30\n"
     ]
    }
   ],
   "source": [
    "print(10+20)"
   ]
  },
  {
   "cell_type": "code",
   "execution_count": 8,
   "id": "e0d0a202",
   "metadata": {},
   "outputs": [
    {
     "name": "stdout",
     "output_type": "stream",
     "text": [
      "1020\n"
     ]
    }
   ],
   "source": [
    "print(\"10\"+\"20\")"
   ]
  },
  {
   "cell_type": "code",
   "execution_count": 9,
   "id": "7423b230",
   "metadata": {},
   "outputs": [
    {
     "name": "stdout",
     "output_type": "stream",
     "text": [
      "abcabcabc\n"
     ]
    }
   ],
   "source": [
    "print(\"abc\" *3)"
   ]
  },
  {
   "cell_type": "code",
   "execution_count": 10,
   "id": "f523e3d9",
   "metadata": {},
   "outputs": [
    {
     "name": "stdout",
     "output_type": "stream",
     "text": [
      "n=10\n"
     ]
    }
   ],
   "source": [
    "n=10\n",
    "print(\"n=%d\" %n)"
   ]
  },
  {
   "cell_type": "code",
   "execution_count": null,
   "id": "00408a94",
   "metadata": {},
   "outputs": [
    {
     "name": "stdout",
     "output_type": "stream",
     "text": [
      "m=5.2, n=10\n"
     ]
    }
   ],
   "source": [
    "m=5.2\n",
    "print(\"m=%.1f, n=%d\" %(m,n))"
   ]
  },
  {
   "cell_type": "code",
   "execution_count": 12,
   "id": "23e927f5",
   "metadata": {},
   "outputs": [],
   "source": [
    "n=input('type a number : ')"
   ]
  },
  {
   "cell_type": "code",
   "execution_count": 13,
   "id": "c738b305",
   "metadata": {},
   "outputs": [
    {
     "data": {
      "text/plain": [
       "'3'"
      ]
     },
     "execution_count": 13,
     "metadata": {},
     "output_type": "execute_result"
    }
   ],
   "source": [
    "n"
   ]
  },
  {
   "cell_type": "code",
   "execution_count": 14,
   "id": "596a90a5",
   "metadata": {},
   "outputs": [
    {
     "data": {
      "text/plain": [
       "3"
      ]
     },
     "execution_count": 14,
     "metadata": {},
     "output_type": "execute_result"
    }
   ],
   "source": [
    "int(n)"
   ]
  },
  {
   "cell_type": "code",
   "execution_count": 15,
   "id": "289bc993",
   "metadata": {},
   "outputs": [
    {
     "data": {
      "text/plain": [
       "3.0"
      ]
     },
     "execution_count": 15,
     "metadata": {},
     "output_type": "execute_result"
    }
   ],
   "source": [
    "float(n)"
   ]
  },
  {
   "cell_type": "code",
   "execution_count": 16,
   "id": "6c4817ad",
   "metadata": {},
   "outputs": [
    {
     "data": {
      "text/plain": [
       "'3'"
      ]
     },
     "execution_count": 16,
     "metadata": {},
     "output_type": "execute_result"
    }
   ],
   "source": [
    "n=str(3)\n",
    "n"
   ]
  },
  {
   "cell_type": "code",
   "execution_count": 17,
   "id": "353ac7bc",
   "metadata": {},
   "outputs": [
    {
     "name": "stdout",
     "output_type": "stream",
     "text": [
      "Hello,박지훈\n"
     ]
    }
   ],
   "source": [
    "name=input('Name:')\n",
    "print(\"Hello,\" +name)"
   ]
  },
  {
   "cell_type": "code",
   "execution_count": 18,
   "id": "f74d6d35",
   "metadata": {},
   "outputs": [
    {
     "name": "stdout",
     "output_type": "stream",
     "text": [
      "21\n"
     ]
    }
   ],
   "source": [
    "a=int(input('Number 1:'))\n",
    "b=int(input('Number 2:'))\n",
    "print(a*b)"
   ]
  },
  {
   "cell_type": "code",
   "execution_count": 19,
   "id": "77a4b62d",
   "metadata": {},
   "outputs": [
    {
     "name": "stdout",
     "output_type": "stream",
     "text": [
      "화씨온도는 78.8\n"
     ]
    }
   ],
   "source": [
    "c=float(input(\"Type 섭씨온도:\"))\n",
    "f=(c*9/5)+32 #온도변화\n",
    "print(\"화씨온도는\", f)"
   ]
  },
  {
   "cell_type": "code",
   "execution_count": 20,
   "id": "38e27009",
   "metadata": {},
   "outputs": [
    {
     "data": {
      "text/plain": [
       "False"
      ]
     },
     "execution_count": 20,
     "metadata": {},
     "output_type": "execute_result"
    }
   ],
   "source": [
    "aVar = True\n",
    "bVar = False\n",
    "type(aVar)\n",
    "\n",
    "a=1\n",
    "b=2\n",
    "c=a>b\n",
    "c"
   ]
  },
  {
   "cell_type": "code",
   "execution_count": 21,
   "id": "58491be1",
   "metadata": {},
   "outputs": [
    {
     "data": {
      "text/plain": [
       "True"
      ]
     },
     "execution_count": 21,
     "metadata": {},
     "output_type": "execute_result"
    }
   ],
   "source": [
    "d=a<b\n",
    "d"
   ]
  },
  {
   "cell_type": "code",
   "execution_count": 22,
   "id": "1382742c",
   "metadata": {},
   "outputs": [
    {
     "data": {
      "text/plain": [
       "int"
      ]
     },
     "execution_count": 22,
     "metadata": {},
     "output_type": "execute_result"
    }
   ],
   "source": [
    "intVar = 5\n",
    "type(intVar)"
   ]
  },
  {
   "cell_type": "code",
   "execution_count": 23,
   "id": "5bb81635",
   "metadata": {},
   "outputs": [
    {
     "data": {
      "text/plain": [
       "(1, 23, 3493)"
      ]
     },
     "execution_count": 23,
     "metadata": {},
     "output_type": "execute_result"
    }
   ],
   "source": [
    "1, 23, 3493\n",
    "0b010101, 0b110010\n",
    "0o1, 0o27, 0o6645\n",
    "0x1, 0x17, 0xDA5"
   ]
  },
  {
   "cell_type": "code",
   "execution_count": 24,
   "id": "5c06a98f",
   "metadata": {},
   "outputs": [
    {
     "data": {
      "text/plain": [
       "float"
      ]
     },
     "execution_count": 24,
     "metadata": {},
     "output_type": "execute_result"
    }
   ],
   "source": [
    "fVar = 1.0\n",
    "type(fVar)"
   ]
  },
  {
   "cell_type": "code",
   "execution_count": 25,
   "id": "b1c0a7d3",
   "metadata": {},
   "outputs": [
    {
     "data": {
      "text/plain": [
       "(100000.0000001, 65535, 4095, 170)"
      ]
     },
     "execution_count": 25,
     "metadata": {},
     "output_type": "execute_result"
    }
   ],
   "source": [
    "100_000.000_0001, 0x_FF_FF, 0o7_777,0b_1010_1010"
   ]
  },
  {
   "cell_type": "code",
   "execution_count": 26,
   "id": "ff80c76c",
   "metadata": {},
   "outputs": [
    {
     "data": {
      "text/plain": [
       "0.001027"
      ]
     },
     "execution_count": 26,
     "metadata": {},
     "output_type": "execute_result"
    }
   ],
   "source": [
    "0.00_10_27"
   ]
  },
  {
   "cell_type": "code",
   "execution_count": 27,
   "id": "ff0a0d77",
   "metadata": {},
   "outputs": [
    {
     "data": {
      "text/plain": [
       "str"
      ]
     },
     "execution_count": 27,
     "metadata": {},
     "output_type": "execute_result"
    }
   ],
   "source": [
    "strVar=\"test\"\n",
    "type(strVar)"
   ]
  },
  {
   "cell_type": "code",
   "execution_count": 28,
   "id": "6e0d9d43",
   "metadata": {},
   "outputs": [
    {
     "data": {
      "text/plain": [
       "'This is another string'"
      ]
     },
     "execution_count": 28,
     "metadata": {},
     "output_type": "execute_result"
    }
   ],
   "source": [
    "'This is a literal string'\n",
    "\"This is another string\""
   ]
  },
  {
   "cell_type": "code",
   "execution_count": 29,
   "id": "7f8eec70",
   "metadata": {},
   "outputs": [
    {
     "name": "stdout",
     "output_type": "stream",
     "text": [
      "1000\n",
      "3.3333333333333335\n",
      "3\n",
      "1\n"
     ]
    }
   ],
   "source": [
    "a= 10\n",
    "b=3\n",
    "c=a%b\n",
    "d=a//b\n",
    "e=a/b\n",
    "f=a**b \n",
    "print(f)\n",
    "print(e)\n",
    "print(d)\n",
    "print(c)"
   ]
  },
  {
   "cell_type": "code",
   "execution_count": 1,
   "id": "1d0cd93b",
   "metadata": {},
   "outputs": [
    {
     "data": {
      "text/plain": [
       "'I\"m a Python fanatic'"
      ]
     },
     "execution_count": 1,
     "metadata": {},
     "output_type": "execute_result"
    }
   ],
   "source": [
    "\"i'm a python fanatic\"\n",
    "'I\"m a Python fanatic'"
   ]
  },
  {
   "cell_type": "code",
   "execution_count": 3,
   "id": "685285b5",
   "metadata": {},
   "outputs": [
    {
     "ename": "SyntaxError",
     "evalue": "unterminated string literal (detected at line 2) (2488282510.py, line 2)",
     "output_type": "error",
     "traceback": [
      "  \u001b[36mCell\u001b[39m\u001b[36m \u001b[39m\u001b[32mIn[3]\u001b[39m\u001b[32m, line 2\u001b[39m\n\u001b[31m    \u001b[39m\u001b[31mthat spans two lines'\u001b[39m\n                        ^\n\u001b[31mSyntaxError\u001b[39m\u001b[31m:\u001b[39m unterminated string literal (detected at line 2)\n"
     ]
    }
   ],
   "source": [
    "'A not very long string'\n",
    "that spans two lines'"
   ]
  },
  {
   "cell_type": "code",
   "execution_count": 5,
   "id": "162bb242",
   "metadata": {},
   "outputs": [],
   "source": [
    "i=3\n",
    "i=i+2"
   ]
  },
  {
   "cell_type": "code",
   "execution_count": 8,
   "id": "dec2584b",
   "metadata": {},
   "outputs": [
    {
     "name": "stdout",
     "output_type": "stream",
     "text": [
      "10\n",
      "3\n",
      "1\n",
      "3\n",
      "3.3333333333333335\n"
     ]
    }
   ],
   "source": [
    "a=10\n",
    "b=3\n",
    "c=a%b\n",
    "d=a//b\n",
    "e=a/b\n",
    "print(a)\n",
    "print(b)\n",
    "print(c)\n",
    "print(d)\n",
    "print(e)"
   ]
  },
  {
   "cell_type": "code",
   "execution_count": 9,
   "id": "fad98be7",
   "metadata": {},
   "outputs": [
    {
     "name": "stdout",
     "output_type": "stream",
     "text": [
      "True\n",
      "False\n",
      "False\n",
      "True\n"
     ]
    }
   ],
   "source": [
    "score = 95\n",
    "print(score>=90)\n",
    "print(score<80)\n",
    "print(score==90)\n",
    "print(score!=80)"
   ]
  },
  {
   "cell_type": "code",
   "execution_count": 5,
   "id": "f2f6c87a",
   "metadata": {},
   "outputs": [
    {
     "name": "stdout",
     "output_type": "stream",
     "text": [
      "{38, 40, 9, 10, 18, 26}\n",
      "[9, 10, 18, 26, 38, 40]\n"
     ]
    }
   ],
   "source": [
    "import random\n",
    "pick = set()\n",
    "while len(pick) < 6:\n",
    "    n = random.randint(1,45)\n",
    "    if n not in pick:\n",
    "        pick.add(n)\n",
    "print(pick)\n",
    "print(sorted(pick))"
   ]
  },
  {
   "cell_type": "code",
   "execution_count": null,
   "id": "12b52dfc",
   "metadata": {},
   "outputs": [],
   "source": []
  }
 ],
 "metadata": {
  "kernelspec": {
   "display_name": "Python 3",
   "language": "python",
   "name": "python3"
  },
  "language_info": {
   "codemirror_mode": {
    "name": "ipython",
    "version": 3
   },
   "file_extension": ".py",
   "mimetype": "text/x-python",
   "name": "python",
   "nbconvert_exporter": "python",
   "pygments_lexer": "ipython3",
   "version": "3.11.9"
  }
 },
 "nbformat": 4,
 "nbformat_minor": 5
}
