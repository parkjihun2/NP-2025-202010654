{
 "cells": [
  {
   "cell_type": "markdown",
   "id": "ef1b9f61",
   "metadata": {},
   "source": [
    "### 202010654 박지훈"
   ]
  },
  {
   "cell_type": "markdown",
   "id": "ad986d0a",
   "metadata": {},
   "source": [
    "1. 키보드에서 임의의 두 실수를 입력 받아 곱한 후 그 결과를 출력하는 프로그램을 작성하고 실행하라"
   ]
  },
  {
   "cell_type": "code",
   "execution_count": 1,
   "id": "8fc95ac7",
   "metadata": {},
   "outputs": [
    {
     "name": "stdout",
     "output_type": "stream",
     "text": [
      "30.0\n"
     ]
    }
   ],
   "source": [
    "a=float(input('Number 1: '))\n",
    "b=float(input('Number 2: '))\n",
    "print(a*b)"
   ]
  },
  {
   "cell_type": "markdown",
   "id": "a66a73ec",
   "metadata": {},
   "source": [
    "2. 1마일은 1.609km이다. 키보드에서 마일(정수)를 입력 받아 km로 변환해 출력하는 프로그램을 작성하고 실행하라"
   ]
  },
  {
   "cell_type": "code",
   "execution_count": 2,
   "id": "d6c3485b",
   "metadata": {},
   "outputs": [
    {
     "name": "stdout",
     "output_type": "stream",
     "text": [
      "km는 83.668\n"
     ]
    }
   ],
   "source": [
    "m=int(input(\"마일 : \"))\n",
    "km=m*1.609\n",
    "print(\"km는\",km)"
   ]
  },
  {
   "cell_type": "markdown",
   "id": "689e1572",
   "metadata": {},
   "source": [
    "3. 원의 반지름을 입력 받아 원의 둘레와 원의 면적을 출력하는 프로그램을 작성하라"
   ]
  },
  {
   "cell_type": "code",
   "execution_count": null,
   "id": "57c9caa0",
   "metadata": {},
   "outputs": [],
   "source": []
  },
  {
   "cell_type": "markdown",
   "id": "7dd5f165",
   "metadata": {},
   "source": [
    "4. 5와 3을 더한 값을 출력하는 프로그램을 작성하라."
   ]
  },
  {
   "cell_type": "code",
   "execution_count": 13,
   "id": "c2feda5c",
   "metadata": {},
   "outputs": [
    {
     "data": {
      "text/plain": [
       "8"
      ]
     },
     "execution_count": 13,
     "metadata": {},
     "output_type": "execute_result"
    }
   ],
   "source": [
    "5+3"
   ]
  },
  {
   "cell_type": "markdown",
   "id": "63150110",
   "metadata": {},
   "source": [
    "5. 7에서 3을 뺀 값을 출력하는 프로그램을 작성하라"
   ]
  },
  {
   "cell_type": "code",
   "execution_count": 14,
   "id": "5d2dcfcd",
   "metadata": {},
   "outputs": [
    {
     "data": {
      "text/plain": [
       "4"
      ]
     },
     "execution_count": 14,
     "metadata": {},
     "output_type": "execute_result"
    }
   ],
   "source": [
    "7-3"
   ]
  },
  {
   "cell_type": "markdown",
   "id": "28c5c20c",
   "metadata": {},
   "source": [
    "6. 4를 2로 나눈 값을 출력하는 프로그램을 작성하라."
   ]
  },
  {
   "cell_type": "code",
   "execution_count": 15,
   "id": "faf90e47",
   "metadata": {},
   "outputs": [
    {
     "data": {
      "text/plain": [
       "2"
      ]
     },
     "execution_count": 15,
     "metadata": {},
     "output_type": "execute_result"
    }
   ],
   "source": [
    "4//2"
   ]
  },
  {
   "cell_type": "markdown",
   "id": "2989ceb6",
   "metadata": {},
   "source": [
    "7. 8을 3으로 나눈 몫과 나머지를 출력하는 프로그램을 작성하라\n"
   ]
  },
  {
   "cell_type": "code",
   "execution_count": 16,
   "id": "46addff1",
   "metadata": {},
   "outputs": [
    {
     "data": {
      "text/plain": [
       "(2, 2)"
      ]
     },
     "execution_count": 16,
     "metadata": {},
     "output_type": "execute_result"
    }
   ],
   "source": [
    "8//3, 8%3"
   ]
  },
  {
   "cell_type": "markdown",
   "id": "7b324385",
   "metadata": {},
   "source": [
    "8. 2의 5제곱을 출력하는 프로그램을 작성하라"
   ]
  },
  {
   "cell_type": "code",
   "execution_count": 17,
   "id": "839a3ad3",
   "metadata": {},
   "outputs": [
    {
     "data": {
      "text/plain": [
       "32"
      ]
     },
     "execution_count": 17,
     "metadata": {},
     "output_type": "execute_result"
    }
   ],
   "source": [
    "2**5"
   ]
  },
  {
   "cell_type": "markdown",
   "id": "129e5f78",
   "metadata": {},
   "source": [
    "9. 입력된 정수가 10보다 크고 20보다 작은지 검사하는 프로그램을 작성하라\n"
   ]
  },
  {
   "cell_type": "code",
   "execution_count": 18,
   "id": "2a70acc0",
   "metadata": {},
   "outputs": [
    {
     "name": "stdout",
     "output_type": "stream",
     "text": [
      "True\n",
      "False\n"
     ]
    }
   ],
   "source": [
    "a=int(input(\"Number : \"))\n",
    "print(a>10)\n",
    "print(a<20)"
   ]
  },
  {
   "cell_type": "markdown",
   "id": "b25593f7",
   "metadata": {},
   "source": [
    "10. 문자열 \"hello와 문자열 \"worid\"를 이어 붙인 결과를 출력하는 프로그램을 작성하라\n"
   ]
  },
  {
   "cell_type": "code",
   "execution_count": 19,
   "id": "d6024a14",
   "metadata": {},
   "outputs": [
    {
     "name": "stdout",
     "output_type": "stream",
     "text": [
      "helloworld\n"
     ]
    }
   ],
   "source": [
    "print(\"hello\"+\"world\")"
   ]
  },
  {
   "cell_type": "markdown",
   "id": "c1b77e02",
   "metadata": {},
   "source": [
    "11. 7을 2로 나눈 결과 가 3보다 작은지 검사하는 프로그램을 작성하라\n"
   ]
  },
  {
   "cell_type": "code",
   "execution_count": 20,
   "id": "07fbc698",
   "metadata": {},
   "outputs": [
    {
     "name": "stdout",
     "output_type": "stream",
     "text": [
      "False\n"
     ]
    }
   ],
   "source": [
    "a=7//2\n",
    "print(a<3)"
   ]
  },
  {
   "cell_type": "markdown",
   "id": "289ea7ba",
   "metadata": {},
   "source": [
    "12. 변수 x의 값이 5와 같지 않은지 검사하는 프로그램을 작성하라\n"
   ]
  },
  {
   "cell_type": "code",
   "execution_count": 21,
   "id": "e36e77cb",
   "metadata": {},
   "outputs": [
    {
     "name": "stdout",
     "output_type": "stream",
     "text": [
      "True\n"
     ]
    }
   ],
   "source": [
    "x=int(input(\"Number: \"))\n",
    "print(x == 5)"
   ]
  },
  {
   "cell_type": "markdown",
   "id": "4c58be55",
   "metadata": {},
   "source": [
    "13. 변수 y의 값이 10에서 20사이의 값인지 검사하는 프로그램을 작성하라\n"
   ]
  },
  {
   "cell_type": "code",
   "execution_count": 22,
   "id": "ed60987c",
   "metadata": {},
   "outputs": [
    {
     "name": "stdout",
     "output_type": "stream",
     "text": [
      "False\n",
      "True\n"
     ]
    }
   ],
   "source": [
    "y=int(input(\"Number: \"))\n",
    "print(y>10)\n",
    "print(y<20)"
   ]
  },
  {
   "cell_type": "markdown",
   "id": "f0681678",
   "metadata": {},
   "source": [
    "14. 5가 3보다 크고 7보다 작은지 검사하는 프로그램을 작성하라"
   ]
  },
  {
   "cell_type": "code",
   "execution_count": 3,
   "id": "ee0c1a82",
   "metadata": {},
   "outputs": [
    {
     "data": {
      "text/plain": [
       "True"
      ]
     },
     "execution_count": 3,
     "metadata": {},
     "output_type": "execute_result"
    }
   ],
   "source": [
    "x=5\n",
    "x>3 and x<7"
   ]
  },
  {
   "cell_type": "markdown",
   "id": "e94e3e5f",
   "metadata": {},
   "source": [
    "15. 변수 x가 10이상이고 20이하인지 검사하는 프로그램을 작성하라"
   ]
  },
  {
   "cell_type": "code",
   "execution_count": 4,
   "id": "28ff4354",
   "metadata": {},
   "outputs": [
    {
     "data": {
      "text/plain": [
       "True"
      ]
     },
     "execution_count": 4,
     "metadata": {},
     "output_type": "execute_result"
    }
   ],
   "source": [
    "x=int(input(\"Number: \"))\n",
    "x>=10 and x<=20"
   ]
  },
  {
   "cell_type": "markdown",
   "id": "ffa090dc",
   "metadata": {},
   "source": [
    "16. 변수 y가 5의 배수이거나 7의 배수인지 검사하는 프로그램을 작성하라"
   ]
  },
  {
   "cell_type": "code",
   "execution_count": 5,
   "id": "4693a46a",
   "metadata": {},
   "outputs": [
    {
     "data": {
      "text/plain": [
       "True"
      ]
     },
     "execution_count": 5,
     "metadata": {},
     "output_type": "execute_result"
    }
   ],
   "source": [
    "y=int(input(\"Number: \"))\n",
    "y%5==0 or y%7==0"
   ]
  },
  {
   "cell_type": "markdown",
   "id": "e185105a",
   "metadata": {},
   "source": [
    "17. 변수 z가 양수이면서 짝수인지 검사하는 프로그램을 작성하라"
   ]
  },
  {
   "cell_type": "code",
   "execution_count": 6,
   "id": "3cc4edf5",
   "metadata": {},
   "outputs": [
    {
     "data": {
      "text/plain": [
       "True"
      ]
     },
     "execution_count": 6,
     "metadata": {},
     "output_type": "execute_result"
    }
   ],
   "source": [
    "z=int(input(\"Number: \"))\n",
    "z>0 and z%2==0"
   ]
  },
  {
   "cell_type": "markdown",
   "id": "5c0f6667",
   "metadata": {},
   "source": [
    "18. 변수 a가 문자열 \"hello\"나 문자열 \"worid\"중 하나인지 검사하는 프로그램을 작성하라"
   ]
  },
  {
   "cell_type": "code",
   "execution_count": 7,
   "id": "dca54a25",
   "metadata": {},
   "outputs": [
    {
     "data": {
      "text/plain": [
       "False"
      ]
     },
     "execution_count": 7,
     "metadata": {},
     "output_type": "execute_result"
    }
   ],
   "source": [
    "a=input(\"string: \")\n",
    "a ==\"hello\" or a == \"worid\""
   ]
  },
  {
   "cell_type": "markdown",
   "id": "fe36b724",
   "metadata": {},
   "source": [
    "19. 숫자 7이 리스트 [1, 2, 3, 4, 5]에 포함되어 있는지 검사하는 프로그램을 작성하라"
   ]
  },
  {
   "cell_type": "code",
   "execution_count": 23,
   "id": "f772273a",
   "metadata": {},
   "outputs": [
    {
     "data": {
      "text/plain": [
       "False"
      ]
     },
     "execution_count": 23,
     "metadata": {},
     "output_type": "execute_result"
    }
   ],
   "source": [
    "7 in [1,2,3,4,5]"
   ]
  },
  {
   "cell_type": "markdown",
   "id": "e685f14b",
   "metadata": {},
   "source": [
    "20. 문자열 \"apple\"이 세트 {\"orange\", \"banana\", \"kiwi\"}에 포함되어 있는지 검사하는 프로그램을 작성하라"
   ]
  },
  {
   "cell_type": "code",
   "execution_count": 24,
   "id": "f25f2799",
   "metadata": {},
   "outputs": [
    {
     "data": {
      "text/plain": [
       "False"
      ]
     },
     "execution_count": 24,
     "metadata": {},
     "output_type": "execute_result"
    }
   ],
   "source": [
    "'apple' in {'orange', 'banana', 'kiwi'}"
   ]
  },
  {
   "cell_type": "markdown",
   "id": "1392ac78",
   "metadata": {},
   "source": [
    "21. 숫자 6이 딕셔너리 {\"a\":1, \"b\":2, \"c\":3, \"d\":4}의 값들 중 하나인지 검사하는 프로그램을 작성하라"
   ]
  },
  {
   "cell_type": "code",
   "execution_count": 25,
   "id": "163e4ffc",
   "metadata": {},
   "outputs": [
    {
     "data": {
      "text/plain": [
       "False"
      ]
     },
     "execution_count": 25,
     "metadata": {},
     "output_type": "execute_result"
    }
   ],
   "source": [
    "'6' in {\"a\":1, \"b\":2, \"c\":3, \"d\":4}"
   ]
  },
  {
   "cell_type": "markdown",
   "id": "ac521a5a",
   "metadata": {},
   "source": [
    "22. 문자열 \"cat\"이 튜플 (\"dog\", \"cat\", \"bird\", \"hamster\")에 포함되어 있는지 검사하는 프로그램을 작성하라"
   ]
  },
  {
   "cell_type": "code",
   "execution_count": 26,
   "id": "bf3c7cad",
   "metadata": {},
   "outputs": [
    {
     "data": {
      "text/plain": [
       "True"
      ]
     },
     "execution_count": 26,
     "metadata": {},
     "output_type": "execute_result"
    }
   ],
   "source": [
    "'cat' in (\"dog\", \"cat\", \"bird\", \"hamster\")"
   ]
  },
  {
   "cell_type": "markdown",
   "id": "d363a897",
   "metadata": {},
   "source": [
    "23. 숫자 10이 세트 {2,4,6,8,10}에 포함되어 있는지 검사하는 프로그램을 작성하라"
   ]
  },
  {
   "cell_type": "code",
   "execution_count": 27,
   "id": "788e5743",
   "metadata": {},
   "outputs": [
    {
     "data": {
      "text/plain": [
       "True"
      ]
     },
     "execution_count": 27,
     "metadata": {},
     "output_type": "execute_result"
    }
   ],
   "source": [
    "10 in {2,4,6,8,10}"
   ]
  },
  {
   "cell_type": "markdown",
   "id": "24021fb3",
   "metadata": {},
   "source": [
    "24. 초를 입력하면 분과 초로 표시하는 프로그램. 예를 들어, 200초를 입력하면 3분 20초로 표한하라"
   ]
  },
  {
   "cell_type": "code",
   "execution_count": 12,
   "id": "49934684",
   "metadata": {},
   "outputs": [
    {
     "name": "stdout",
     "output_type": "stream",
     "text": [
      "107분 54초\n"
     ]
    }
   ],
   "source": [
    "sec=int(input(\"초:\"))\n",
    "min=sec//60\n",
    "s=sec%60\n",
    "print(f\"{min}분 {s}초\")"
   ]
  },
  {
   "cell_type": "markdown",
   "id": "3e3d20e7",
   "metadata": {},
   "source": [
    "25. 분(min)을 입력하면, 일, 시간, 분으로 출력하는 프로그램을 만들어라 (예 : 1550분은 1일 1시간 50분)"
   ]
  },
  {
   "cell_type": "code",
   "execution_count": 11,
   "id": "4b9ab81a",
   "metadata": {},
   "outputs": [
    {
     "name": "stdout",
     "output_type": "stream",
     "text": [
      "3일 3시간33분\n"
     ]
    }
   ],
   "source": [
    "min=int(input(\"time \"))\n",
    "d=min//(24*60)\n",
    "h=(min%(24*60))//60\n",
    "m=min%60\n",
    "print(f\"{d}일 {h}시간{m}분\")"
   ]
  },
  {
   "cell_type": "markdown",
   "id": "e8947bd3",
   "metadata": {},
   "source": [
    "26. 500만원을 년이율 5%로 복리 저금 했을 때 5년 후의 원리금의 합계를 출력하는 프로그램"
   ]
  },
  {
   "cell_type": "code",
   "execution_count": 10,
   "id": "f2c7a234",
   "metadata": {},
   "outputs": [
    {
     "name": "stdout",
     "output_type": "stream",
     "text": [
      "5년 후: 6381407.81원\n"
     ]
    }
   ],
   "source": [
    "principal=5000000\n",
    "rate=0.05\n",
    "years=5\n",
    "final_amount = principal * (1+rate)**years\n",
    "print(f\"5년 후: {final_amount:.2f}원\")"
   ]
  },
  {
   "cell_type": "markdown",
   "id": "9af02770",
   "metadata": {},
   "source": [
    "27. 1부터 n까지의 합은 n(n+1)/2로 주어진다. 1부터 100까지의 합을 구하여 출력하는 프로그램을 작성하고 실행하라"
   ]
  },
  {
   "cell_type": "code",
   "execution_count": 9,
   "id": "54424c36",
   "metadata": {},
   "outputs": [
    {
     "name": "stdout",
     "output_type": "stream",
     "text": [
      "1부터 100까지의 합: 5050\n"
     ]
    }
   ],
   "source": [
    "n=100\n",
    "sum_n=n*(n+1) //2\n",
    "print(f\"1부터 {n}까지의 합: {sum_n}\")"
   ]
  },
  {
   "cell_type": "markdown",
   "id": "275e71de",
   "metadata": {},
   "source": [
    "28. 판매자가 딸기와 포도를 판매하고 있다. 포도 한 알의 무게는 75g이고 딸기 한 알의 무게는 113.5g이다. 사용자로부터 포도 알의 개수와 딸기의 개수를 입력받아 총 무게를 계산하여 출력하는 프로그램을 작성하고 실행하라"
   ]
  },
  {
   "cell_type": "code",
   "execution_count": 8,
   "id": "73721334",
   "metadata": {},
   "outputs": [
    {
     "name": "stdout",
     "output_type": "stream",
     "text": [
      "총 무게: 942.5g\n"
     ]
    }
   ],
   "source": [
    "grape_weight=75\n",
    "strawberry_weight=113.5\n",
    "num_grapes=int(input(\"포도 알 개수 : \"))\n",
    "num_strawberries = int(input(\"딸기 알 개수 입력: \"))\n",
    "total_weight = grape_weight * num_grapes + strawberry_weight * num_strawberries\n",
    "print(f\"총 무게: {total_weight}g\")"
   ]
  },
  {
   "cell_type": "code",
   "execution_count": null,
   "id": "153d410a",
   "metadata": {},
   "outputs": [],
   "source": []
  }
 ],
 "metadata": {
  "kernelspec": {
   "display_name": "Python 3",
   "language": "python",
   "name": "python3"
  },
  "language_info": {
   "codemirror_mode": {
    "name": "ipython",
    "version": 3
   },
   "file_extension": ".py",
   "mimetype": "text/x-python",
   "name": "python",
   "nbconvert_exporter": "python",
   "pygments_lexer": "ipython3",
   "version": "3.11.9"
  }
 },
 "nbformat": 4,
 "nbformat_minor": 5
}
