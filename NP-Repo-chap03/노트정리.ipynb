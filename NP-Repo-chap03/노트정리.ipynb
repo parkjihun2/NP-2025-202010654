{
 "cells": [
  {
   "cell_type": "code",
   "execution_count": 13,
   "id": "0f68a0ea",
   "metadata": {},
   "outputs": [],
   "source": [
    "score=int(input(\"정수 입력:\"))\n",
    "if score>=90:\n",
    "    print(\"A학점\")\n",
    "    print(\"장학금 수여\")"
   ]
  },
  {
   "cell_type": "code",
   "execution_count": 8,
   "id": "a7b75bd1",
   "metadata": {},
   "outputs": [],
   "source": [
    "\n",
    "age_0=22\n",
    "age_1=18\n",
    "age=int(input(\"your age?:\"))\n",
    "if age<age_0 and age > age_1:\n",
    "    print(\"당신의 나이는 18~22세 사이입니다.\")"
   ]
  },
  {
   "cell_type": "code",
   "execution_count": 14,
   "id": "32d822a7",
   "metadata": {},
   "outputs": [
    {
     "name": "stdout",
     "output_type": "stream",
     "text": [
      "Fail\n"
     ]
    }
   ],
   "source": [
    "if score>=90:\n",
    "    print(\"Pass\")\n",
    "else:\n",
    "    print(\"Fail\")"
   ]
  },
  {
   "cell_type": "code",
   "execution_count": 15,
   "id": "88d2d105",
   "metadata": {},
   "outputs": [
    {
     "name": "stdout",
     "output_type": "stream",
     "text": [
      "fail\n"
     ]
    }
   ],
   "source": [
    "res='Pass' if score>=90 else 'fail'\n",
    "print(res)"
   ]
  },
  {
   "cell_type": "code",
   "execution_count": 16,
   "id": "8d267a4f",
   "metadata": {},
   "outputs": [
    {
     "name": "stdout",
     "output_type": "stream",
     "text": [
      "2024 is a leap year\n"
     ]
    }
   ],
   "source": [
    "year=int(input(\"Type a year:\"))\n",
    "if(year%4 ==0 and year%100 !=0) or (year%400)==0:\n",
    "    print(year, \"is a leap year\")\n",
    "else:\n",
    "    print(year, \"is not a leap year\")"
   ]
  },
  {
   "cell_type": "code",
   "execution_count": 18,
   "id": "4dbd6dfc",
   "metadata": {},
   "outputs": [
    {
     "name": "stdout",
     "output_type": "stream",
     "text": [
      "positive\n"
     ]
    }
   ],
   "source": [
    "n = int(input(\"type int number:\"))\n",
    "if n >0:\n",
    "    print(\"positive\")\n",
    "else:\n",
    "    if n<0:\n",
    "        print(\"negative\")\n",
    "    else:\n",
    "        print(\"0\")"
   ]
  },
  {
   "cell_type": "code",
   "execution_count": 21,
   "id": "4a619ead",
   "metadata": {},
   "outputs": [
    {
     "name": "stdout",
     "output_type": "stream",
     "text": [
      "positive\n"
     ]
    }
   ],
   "source": [
    "n=int(input(\"type int number:\"))\n",
    "if n>0:\n",
    "    if n==0:\n",
    "        print(\"0\")\n",
    "    else:\n",
    "        print(\"positive\")\n",
    "else:\n",
    "    print(\"negative\")"
   ]
  },
  {
   "cell_type": "code",
   "execution_count": 23,
   "id": "450f330d",
   "metadata": {},
   "outputs": [
    {
     "name": "stdout",
     "output_type": "stream",
     "text": [
      "Your admission cost i $5.\n"
     ]
    }
   ],
   "source": [
    "age=12\n",
    "if age<4:\n",
    "    price=0\n",
    "elif age<18:\n",
    "    price=5\n",
    "elif age<65:\n",
    "    price=10\n",
    "else:\n",
    "    price=5\n",
    "\n",
    "print(\"Your admission cost i $\" + str(price) +\".\")"
   ]
  },
  {
   "cell_type": "code",
   "execution_count": 24,
   "id": "31b32f16",
   "metadata": {},
   "outputs": [
    {
     "name": "stdout",
     "output_type": "stream",
     "text": [
      "sum= 5050\n"
     ]
    }
   ],
   "source": [
    "i=1\n",
    "sum=0\n",
    "while i<=100:\n",
    "    sum=sum+i\n",
    "    i=i+1\n",
    "\n",
    "print(\"sum=\", sum)"
   ]
  },
  {
   "cell_type": "code",
   "execution_count": 25,
   "id": "55c22040",
   "metadata": {},
   "outputs": [
    {
     "name": "stdout",
     "output_type": "stream",
     "text": [
      "2진수= 1111\n"
     ]
    }
   ],
   "source": [
    "n=int(input('Numer:'))\n",
    "result =''\n",
    "\n",
    "while n!=0:\n",
    "    m=n%2\n",
    "    result=str(m)+result\n",
    "    n=n//2\n",
    "\n",
    "print(\"2진수=\", result)"
   ]
  },
  {
   "cell_type": "code",
   "execution_count": 27,
   "id": "1229bbe0",
   "metadata": {},
   "outputs": [
    {
     "name": "stdout",
     "output_type": "stream",
     "text": [
      "숫자 1\n",
      "숫자 2\n",
      "숫자 3\n",
      "h\n",
      "e\n",
      "l\n",
      "l\n",
      "o\n"
     ]
    }
   ],
   "source": [
    "for i in(1,2,3):\n",
    "    print(\"숫자\",i)\n",
    "for i in 'hello':\n",
    "    print(i)"
   ]
  },
  {
   "cell_type": "code",
   "execution_count": 28,
   "id": "0e870c9a",
   "metadata": {},
   "outputs": [
    {
     "ename": "SyntaxError",
     "evalue": "invalid syntax (4270188599.py, line 3)",
     "output_type": "error",
     "traceback": [
      "  \u001b[36mCell\u001b[39m\u001b[36m \u001b[39m\u001b[32mIn[28]\u001b[39m\u001b[32m, line 3\u001b[39m\n\u001b[31m    \u001b[39m\u001b[31mNumber 1\u001b[39m\n           ^\n\u001b[31mSyntaxError\u001b[39m\u001b[31m:\u001b[39m invalid syntax\n"
     ]
    }
   ],
   "source": [
    "for i in range(1,4,1):\n",
    "    print(\"Number\",i)\n",
    "Number 1\n",
    "Number 2\n",
    "Number 3"
   ]
  },
  {
   "cell_type": "code",
   "execution_count": 29,
   "id": "6603c97e",
   "metadata": {},
   "outputs": [
    {
     "name": "stdout",
     "output_type": "stream",
     "text": [
      "sum= 5050\n"
     ]
    }
   ],
   "source": [
    "sum=0\n",
    "for i in range(1,101,1):\n",
    "    sum=sum+i\n",
    "print(\"sum=\", sum)"
   ]
  },
  {
   "cell_type": "code",
   "execution_count": 31,
   "id": "d122bd24",
   "metadata": {},
   "outputs": [
    {
     "name": "stdout",
     "output_type": "stream",
     "text": [
      "1\n"
     ]
    }
   ],
   "source": [
    "x=float(input('type x:'))\n",
    "n=int(input('Type n:'))\n",
    "\n",
    "prod=1\n",
    "for i in range(1, n+1):\n",
    "    pord=prod*x\n",
    "print(prod)"
   ]
  },
  {
   "cell_type": "code",
   "execution_count": null,
   "id": "2cf99d12",
   "metadata": {},
   "outputs": [],
   "source": []
  }
 ],
 "metadata": {
  "kernelspec": {
   "display_name": "Python 3",
   "language": "python",
   "name": "python3"
  },
  "language_info": {
   "codemirror_mode": {
    "name": "ipython",
    "version": 3
   },
   "file_extension": ".py",
   "mimetype": "text/x-python",
   "name": "python",
   "nbconvert_exporter": "python",
   "pygments_lexer": "ipython3",
   "version": "3.11.9"
  }
 },
 "nbformat": 4,
 "nbformat_minor": 5
}
