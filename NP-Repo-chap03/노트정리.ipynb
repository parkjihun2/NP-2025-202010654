{
 "cells": [
  {
   "cell_type": "markdown",
   "id": "a15ccdc8",
   "metadata": {},
   "source": [
    "### 202010654 박지훈"
   ]
  },
  {
   "cell_type": "code",
   "execution_count": 13,
   "id": "0f68a0ea",
   "metadata": {},
   "outputs": [],
   "source": [
    "score=int(input(\"정수 입력:\"))\n",
    "if score>=90:\n",
    "    print(\"A학점\")\n",
    "    print(\"장학금 수여\")"
   ]
  },
  {
   "cell_type": "code",
   "execution_count": 8,
   "id": "a7b75bd1",
   "metadata": {},
   "outputs": [],
   "source": [
    "\n",
    "age_0=22\n",
    "age_1=18\n",
    "age=int(input(\"your age?:\"))\n",
    "if age<age_0 and age > age_1:\n",
    "    print(\"당신의 나이는 18~22세 사이입니다.\")"
   ]
  },
  {
   "cell_type": "code",
   "execution_count": 14,
   "id": "32d822a7",
   "metadata": {},
   "outputs": [
    {
     "name": "stdout",
     "output_type": "stream",
     "text": [
      "Fail\n"
     ]
    }
   ],
   "source": [
    "if score>=90:\n",
    "    print(\"Pass\")\n",
    "else:\n",
    "    print(\"Fail\")"
   ]
  },
  {
   "cell_type": "code",
   "execution_count": 15,
   "id": "88d2d105",
   "metadata": {},
   "outputs": [
    {
     "name": "stdout",
     "output_type": "stream",
     "text": [
      "fail\n"
     ]
    }
   ],
   "source": [
    "res='Pass' if score>=90 else 'fail'\n",
    "print(res)"
   ]
  },
  {
   "cell_type": "code",
   "execution_count": 16,
   "id": "8d267a4f",
   "metadata": {},
   "outputs": [
    {
     "name": "stdout",
     "output_type": "stream",
     "text": [
      "2024 is a leap year\n"
     ]
    }
   ],
   "source": [
    "year=int(input(\"Type a year:\"))\n",
    "if(year%4 ==0 and year%100 !=0) or (year%400)==0:\n",
    "    print(year, \"is a leap year\")\n",
    "else:\n",
    "    print(year, \"is not a leap year\")"
   ]
  },
  {
   "cell_type": "code",
   "execution_count": 18,
   "id": "4dbd6dfc",
   "metadata": {},
   "outputs": [
    {
     "name": "stdout",
     "output_type": "stream",
     "text": [
      "positive\n"
     ]
    }
   ],
   "source": [
    "n = int(input(\"type int number:\"))\n",
    "if n >0:\n",
    "    print(\"positive\")\n",
    "else:\n",
    "    if n<0:\n",
    "        print(\"negative\")\n",
    "    else:\n",
    "        print(\"0\")"
   ]
  },
  {
   "cell_type": "code",
   "execution_count": 21,
   "id": "4a619ead",
   "metadata": {},
   "outputs": [
    {
     "name": "stdout",
     "output_type": "stream",
     "text": [
      "positive\n"
     ]
    }
   ],
   "source": [
    "n=int(input(\"type int number:\"))\n",
    "if n>0:\n",
    "    if n==0:\n",
    "        print(\"0\")\n",
    "    else:\n",
    "        print(\"positive\")\n",
    "else:\n",
    "    print(\"negative\")"
   ]
  },
  {
   "cell_type": "code",
   "execution_count": 23,
   "id": "450f330d",
   "metadata": {},
   "outputs": [
    {
     "name": "stdout",
     "output_type": "stream",
     "text": [
      "Your admission cost i $5.\n"
     ]
    }
   ],
   "source": [
    "age=12\n",
    "if age<4:\n",
    "    price=0\n",
    "elif age<18:\n",
    "    price=5\n",
    "elif age<65:\n",
    "    price=10\n",
    "else:\n",
    "    price=5\n",
    "\n",
    "print(\"Your admission cost i $\" + str(price) +\".\")"
   ]
  },
  {
   "cell_type": "code",
   "execution_count": 24,
   "id": "31b32f16",
   "metadata": {},
   "outputs": [
    {
     "name": "stdout",
     "output_type": "stream",
     "text": [
      "sum= 5050\n"
     ]
    }
   ],
   "source": [
    "i=1\n",
    "sum=0\n",
    "while i<=100:\n",
    "    sum=sum+i\n",
    "    i=i+1\n",
    "\n",
    "print(\"sum=\", sum)"
   ]
  },
  {
   "cell_type": "code",
   "execution_count": 25,
   "id": "55c22040",
   "metadata": {},
   "outputs": [
    {
     "name": "stdout",
     "output_type": "stream",
     "text": [
      "2진수= 1111\n"
     ]
    }
   ],
   "source": [
    "n=int(input('Numer:'))\n",
    "result =''\n",
    "\n",
    "while n!=0:\n",
    "    m=n%2\n",
    "    result=str(m)+result\n",
    "    n=n//2\n",
    "\n",
    "print(\"2진수=\", result)"
   ]
  },
  {
   "cell_type": "code",
   "execution_count": 27,
   "id": "1229bbe0",
   "metadata": {},
   "outputs": [
    {
     "name": "stdout",
     "output_type": "stream",
     "text": [
      "숫자 1\n",
      "숫자 2\n",
      "숫자 3\n",
      "h\n",
      "e\n",
      "l\n",
      "l\n",
      "o\n"
     ]
    }
   ],
   "source": [
    "for i in(1,2,3):\n",
    "    print(\"숫자\",i)\n",
    "for i in 'hello':\n",
    "    print(i)"
   ]
  },
  {
   "cell_type": "code",
   "execution_count": 28,
   "id": "0e870c9a",
   "metadata": {},
   "outputs": [
    {
     "ename": "SyntaxError",
     "evalue": "invalid syntax (4270188599.py, line 3)",
     "output_type": "error",
     "traceback": [
      "  \u001b[36mCell\u001b[39m\u001b[36m \u001b[39m\u001b[32mIn[28]\u001b[39m\u001b[32m, line 3\u001b[39m\n\u001b[31m    \u001b[39m\u001b[31mNumber 1\u001b[39m\n           ^\n\u001b[31mSyntaxError\u001b[39m\u001b[31m:\u001b[39m invalid syntax\n"
     ]
    }
   ],
   "source": [
    "for i in range(1,4,1):\n",
    "    print(\"Number\",i)\n",
    "Number 1\n",
    "Number 2\n",
    "Number 3"
   ]
  },
  {
   "cell_type": "code",
   "execution_count": 29,
   "id": "6603c97e",
   "metadata": {},
   "outputs": [
    {
     "name": "stdout",
     "output_type": "stream",
     "text": [
      "sum= 5050\n"
     ]
    }
   ],
   "source": [
    "sum=0\n",
    "for i in range(1,101,1):\n",
    "    sum=sum+i\n",
    "print(\"sum=\", sum)"
   ]
  },
  {
   "cell_type": "code",
   "execution_count": 31,
   "id": "d122bd24",
   "metadata": {},
   "outputs": [
    {
     "name": "stdout",
     "output_type": "stream",
     "text": [
      "1\n"
     ]
    }
   ],
   "source": [
    "x=float(input('type x:'))\n",
    "n=int(input('Type n:'))\n",
    "\n",
    "prod=1\n",
    "for i in range(1, n+1):\n",
    "    pord=prod*x\n",
    "print(prod)"
   ]
  },
  {
   "cell_type": "code",
   "execution_count": 1,
   "id": "2cf99d12",
   "metadata": {},
   "outputs": [
    {
     "name": "stdout",
     "output_type": "stream",
     "text": [
      "2 x 1 = 2\n",
      "2 x 2 = 4\n",
      "2 x 3 = 6\n",
      "2 x 4 = 8\n",
      "2 x 5 = 10\n",
      "2 x 6 = 12\n",
      "2 x 7 = 14\n",
      "2 x 8 = 16\n",
      "2 x 9 = 18\n",
      "3 x 1 = 3\n",
      "3 x 2 = 6\n",
      "3 x 3 = 9\n",
      "3 x 4 = 12\n",
      "3 x 5 = 15\n",
      "3 x 6 = 18\n",
      "3 x 7 = 21\n",
      "3 x 8 = 24\n",
      "3 x 9 = 27\n",
      "4 x 1 = 4\n",
      "4 x 2 = 8\n",
      "4 x 3 = 12\n",
      "4 x 4 = 16\n",
      "4 x 5 = 20\n",
      "4 x 6 = 24\n",
      "4 x 7 = 28\n",
      "4 x 8 = 32\n",
      "4 x 9 = 36\n",
      "5 x 1 = 5\n",
      "5 x 2 = 10\n",
      "5 x 3 = 15\n",
      "5 x 4 = 20\n",
      "5 x 5 = 25\n",
      "5 x 6 = 30\n",
      "5 x 7 = 35\n",
      "5 x 8 = 40\n",
      "5 x 9 = 45\n",
      "6 x 1 = 6\n",
      "6 x 2 = 12\n",
      "6 x 3 = 18\n",
      "6 x 4 = 24\n",
      "6 x 5 = 30\n",
      "6 x 6 = 36\n",
      "6 x 7 = 42\n",
      "6 x 8 = 48\n",
      "6 x 9 = 54\n",
      "7 x 1 = 7\n",
      "7 x 2 = 14\n",
      "7 x 3 = 21\n",
      "7 x 4 = 28\n",
      "7 x 5 = 35\n",
      "7 x 6 = 42\n",
      "7 x 7 = 49\n",
      "7 x 8 = 56\n",
      "7 x 9 = 63\n",
      "8 x 1 = 8\n",
      "8 x 2 = 16\n",
      "8 x 3 = 24\n",
      "8 x 4 = 32\n",
      "8 x 5 = 40\n",
      "8 x 6 = 48\n",
      "8 x 7 = 56\n",
      "8 x 8 = 64\n",
      "8 x 9 = 72\n",
      "9 x 1 = 9\n",
      "9 x 2 = 18\n",
      "9 x 3 = 27\n",
      "9 x 4 = 36\n",
      "9 x 5 = 45\n",
      "9 x 6 = 54\n",
      "9 x 7 = 63\n",
      "9 x 8 = 72\n",
      "9 x 9 = 81\n"
     ]
    }
   ],
   "source": [
    "for i in range(2, 10, 1):\n",
    "    for j in range(1, 10, 1):\n",
    "        print(\"%d x %d = %d\" %(i, j, i*j))"
   ]
  },
  {
   "cell_type": "code",
   "execution_count": null,
   "id": "400faee7",
   "metadata": {},
   "outputs": [],
   "source": [
    "while True:\n",
    "    print(\"last forever\")"
   ]
  },
  {
   "cell_type": "code",
   "execution_count": 14,
   "id": "3735a7fd",
   "metadata": {},
   "outputs": [
    {
     "name": "stdout",
     "output_type": "stream",
     "text": [
      "더 작습니다 4 기회 남음\n",
      "\n",
      "더 작습니다 3 기회 남음\n",
      "\n",
      "더 작습니다 2 기회 남음\n",
      "\n",
      "더 작습니다 1 기회 남음\n",
      "\n",
      "더 작습니다 0 기회 남음\n",
      "\n",
      "맞습니다\n"
     ]
    }
   ],
   "source": [
    "from random import randint\n",
    "secret_num=randint(1,100)\n",
    "num_guesses=0\n",
    "guess=0\n",
    "while guess != secret_num and num_guesses <=6:\n",
    "    guess=eval(input(\"1~100 사이의 정수를 입력하세요:\"))\n",
    "    num_guesses=num_guesses+1\n",
    "    if guess < secret_num:\n",
    "        print('더 큽니다', 5-num_guesses, '기회 남음\\n')\n",
    "    elif guess > secret_num:\n",
    "        print('더 작습니다',5-num_guesses, '기회 남음\\n')\n",
    "    else:\n",
    "        print('맞습니다')\n",
    "if num_guesses==7 and guess != secret_num:\n",
    "    print('졌습니다 정답은', secret_num, '입니다')"
   ]
  },
  {
   "cell_type": "code",
   "execution_count": 15,
   "id": "b52e8a8a",
   "metadata": {},
   "outputs": [
    {
     "name": "stdout",
     "output_type": "stream",
     "text": [
      "0.1\n",
      "0.1111111111111111\n",
      "0.125\n",
      "0.14285714285714285\n",
      "0.16666666666666666\n",
      "0.2\n",
      "0.25\n",
      "0.3333333333333333\n",
      "0.5\n",
      "1.0\n"
     ]
    }
   ],
   "source": [
    "n=10\n",
    "while n >= -10:\n",
    "    if n ==0:\n",
    "        break\n",
    "    inv=1.0/n\n",
    "    print(inv)\n",
    "    n=n-1"
   ]
  },
  {
   "cell_type": "markdown",
   "id": "399a33df",
   "metadata": {},
   "source": [
    "202010654박지훈"
   ]
  },
  {
   "cell_type": "code",
   "execution_count": 17,
   "id": "ba44abb7",
   "metadata": {},
   "outputs": [
    {
     "name": "stdout",
     "output_type": "stream",
     "text": [
      "n=10, inv(n)=0.10\n",
      "n=9, inv(n)=0.11\n",
      "n=8, inv(n)=0.12\n",
      "n=7, inv(n)=0.14\n",
      "n=6, inv(n)=0.17\n",
      "n=5, inv(n)=0.20\n",
      "n=4, inv(n)=0.25\n",
      "n=3, inv(n)=0.33\n",
      "n=2, inv(n)=0.50\n",
      "n=1, inv(n)=1.00\n",
      "n=-1, inv(n)=-1.00\n",
      "n=-2, inv(n)=-0.50\n",
      "n=-3, inv(n)=-0.33\n",
      "n=-4, inv(n)=-0.25\n",
      "n=-5, inv(n)=-0.20\n",
      "n=-6, inv(n)=-0.17\n",
      "n=-7, inv(n)=-0.14\n",
      "n=-8, inv(n)=-0.12\n",
      "n=-9, inv(n)=-0.11\n",
      "n=-10, inv(n)=-0.10\n"
     ]
    }
   ],
   "source": [
    "n=10\n",
    "while n>= -10:\n",
    "    if n==0:\n",
    "        n=n-1\n",
    "        continue\n",
    "    inv=1.0/n\n",
    "    print(\"n=%d, inv(n)=%0.2f\"%(n,inv))\n",
    "    n=n-1"
   ]
  },
  {
   "cell_type": "code",
   "execution_count": 19,
   "id": "030f416b",
   "metadata": {},
   "outputs": [
    {
     "name": "stdout",
     "output_type": "stream",
     "text": [
      "성공\n",
      "알 수 없는 상태\n"
     ]
    }
   ],
   "source": [
    "def handle_status(status):\n",
    "    match status:\n",
    "        case 200:\n",
    "            return \"성공\"\n",
    "        case 400:\n",
    "            return \"페이지를 찾을 수 없음\"\n",
    "        case 500:\n",
    "            return \"서버 오류\"\n",
    "        case _:\n",
    "            return \"알 수 없는 상태\"\n",
    "print(handle_status(200))\n",
    "print(handle_status(999))"
   ]
  }
 ],
 "metadata": {
  "kernelspec": {
   "display_name": "Python 3",
   "language": "python",
   "name": "python3"
  },
  "language_info": {
   "codemirror_mode": {
    "name": "ipython",
    "version": 3
   },
   "file_extension": ".py",
   "mimetype": "text/x-python",
   "name": "python",
   "nbconvert_exporter": "python",
   "pygments_lexer": "ipython3",
   "version": "3.11.9"
  }
 },
 "nbformat": 4,
 "nbformat_minor": 5
}
