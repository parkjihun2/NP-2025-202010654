{
 "cells": [
  {
   "cell_type": "code",
   "execution_count": null,
   "id": "f474fcf5",
   "metadata": {},
   "outputs": [],
   "source": [
    "from abc import ABC, abstractmethod\n",
    "from os import name\n",
    "\n",
    "class Animal(ABC):\n",
    "    count = 0\n",
    "    def __init__(self):\n",
    "        Animal.count += 1\n",
    "        self.name = \"동물\"\n",
    "\n",
    "    def __del__(self):\n",
    "        Animal.count -= 1\n",
    "        print(f\"{self.name}이(가) 소멸되었습니다.\")\n",
    "if __name__ == \"__main__\":\n",
    "    dog : Dog = Dog(\"바둑이\")\n",
    "    print(dog.sound())\n",
    "\n",
    "    cat = Cat = Cat(\"야옹이\")\n",
    "    print(cat.sound())\n",
    "    \n",
    "    any : Animal = Dog(\"바둑이2\")\n",
    "    print(any.sound())\n",
    "    any : Animal = Cat(\"야옹이2\")\n",
    "    print(any.sound())\n",
    "\n",
    "    alist : list[Animal] = [Dog(\"바둑이a\"), Cat(\"나비ㅠ\"), Dog(\"멍멍이c\")]\n",
    "    print(alist)\n",
    "\n",
    "    animal_sound(alist[2])"
   ]
  }
 ],
 "metadata": {
  "language_info": {
   "name": "python"
  }
 },
 "nbformat": 4,
 "nbformat_minor": 5
}
