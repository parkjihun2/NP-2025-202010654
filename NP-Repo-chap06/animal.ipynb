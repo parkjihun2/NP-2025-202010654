{
 "cells": [
  {
   "cell_type": "code",
   "execution_count": 22,
   "id": "f474fcf5",
   "metadata": {},
   "outputs": [
    {
     "name": "stdout",
     "output_type": "stream",
     "text": [
      "바둑이가 멍멍하고 울어요\n",
      "야옹이가 야옹하고 울어요\n",
      "총 동물의 수: 2\n",
      "토리가 멍멍하고 울어요\n",
      "나비가 야옹하고 울어요\n",
      "멍멍이가 멍멍하고 울어요\n"
     ]
    },
    {
     "ename": "AttributeError",
     "evalue": "'str' object has no attribute 'sound'",
     "output_type": "error",
     "traceback": [
      "\u001b[31m---------------------------------------------------------------------------\u001b[39m",
      "\u001b[31mAttributeError\u001b[39m                            Traceback (most recent call last)",
      "\u001b[36mCell\u001b[39m\u001b[36m \u001b[39m\u001b[32mIn[22]\u001b[39m\u001b[32m, line 43\u001b[39m\n\u001b[32m     41\u001b[39m anymallist = [Dog(\u001b[33m\"\u001b[39m\u001b[33m토리\u001b[39m\u001b[33m\"\u001b[39m), Cat(\u001b[33m\"\u001b[39m\u001b[33m나비\u001b[39m\u001b[33m\"\u001b[39m), Dog(\u001b[33m\"\u001b[39m\u001b[33m멍멍이\u001b[39m\u001b[33m\"\u001b[39m), (\u001b[33m\"\u001b[39m\u001b[33m고양이\u001b[39m\u001b[33m\"\u001b[39m)]\n\u001b[32m     42\u001b[39m \u001b[38;5;28;01mfor\u001b[39;00m animal \u001b[38;5;129;01min\u001b[39;00m anymallist:\n\u001b[32m---> \u001b[39m\u001b[32m43\u001b[39m     \u001b[38;5;28mprint\u001b[39m(\u001b[43manimal\u001b[49m\u001b[43m.\u001b[49m\u001b[43msound\u001b[49m())\n\u001b[32m     45\u001b[39m \u001b[38;5;28;01mdef\u001b[39;00m\u001b[38;5;250m \u001b[39m\u001b[34mmake_sounds\u001b[39m(animals: \u001b[38;5;28mlist\u001b[39m[Animal]):\n\u001b[32m     46\u001b[39m     \u001b[38;5;28;01mfor\u001b[39;00m animal \u001b[38;5;129;01min\u001b[39;00m animals:\n",
      "\u001b[31mAttributeError\u001b[39m: 'str' object has no attribute 'sound'"
     ]
    }
   ],
   "source": [
    "from abc import ABC, abstractmethod\n",
    "\n",
    "class Animal(ABC):\n",
    "    animal_count = 0\n",
    "\n",
    "    def __init__(self):\n",
    "        Animal.animal_count += 1\n",
    "    \n",
    "    @abstractmethod\n",
    "    def sound(self):\n",
    "        pass\n",
    "\n",
    "    @staticmethod\n",
    "    def get_animal_count():\n",
    "        return Animal.animal_count\n",
    "\n",
    "class Dog(Animal):\n",
    "    def __init__(self, name):\n",
    "        super().__init__()\n",
    "        self.__name = name\n",
    "\n",
    "    def sound(self):\n",
    "        return f\"{self.__name}가 멍멍하고 울어요\"\n",
    "\n",
    "class Cat(Animal):\n",
    "    def __init__(self, name):\n",
    "        super().__init__()\n",
    "        self.__name = name\n",
    "\n",
    "    def sound(self):\n",
    "        return f\"{self.__name}가 야옹하고 울어요\"\n",
    "\n",
    "if __name__ == \"__main__\":\n",
    "\n",
    "    mydog: Dog = Dog(\"바둑이\")\n",
    "    mycat: Cat = Cat(\"야옹이\")\n",
    "    print(mydog.sound())\n",
    "    print(mycat.sound())\n",
    "    print(\"총 동물의 수:\", Animal.get_animal_count())\n",
    "\n",
    "    anymallist = [Dog(\"토리\"), Cat(\"나비\"), Dog(\"멍멍이\"), (\"고양이\")]\n",
    "    for animal in anymallist:\n",
    "        print(animal.sound())\n",
    "\n",
    "    def make_sounds(animals: list[Animal]):\n",
    "        for animal in animals:\n",
    "            print(animal.sound())"
   ]
  },
  {
   "cell_type": "code",
   "execution_count": null,
   "id": "5866385f",
   "metadata": {},
   "outputs": [],
   "source": []
  }
 ],
 "metadata": {
  "kernelspec": {
   "display_name": "Python 3",
   "language": "python",
   "name": "python3"
  },
  "language_info": {
   "codemirror_mode": {
    "name": "ipython",
    "version": 3
   },
   "file_extension": ".py",
   "mimetype": "text/x-python",
   "name": "python",
   "nbconvert_exporter": "python",
   "pygments_lexer": "ipython3",
   "version": "3.11.9"
  }
 },
 "nbformat": 4,
 "nbformat_minor": 5
}
