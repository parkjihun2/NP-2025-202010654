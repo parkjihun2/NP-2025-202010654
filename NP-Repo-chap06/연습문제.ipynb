{
 "cells": [
  {
   "cell_type": "markdown",
   "id": "daa5775f",
   "metadata": {},
   "source": [
    "## 202010654 박지훈"
   ]
  },
  {
   "cell_type": "markdown",
   "id": "e023f32c",
   "metadata": {},
   "source": [
    "1. Moneybox 클래스를 작성하라. 이 클래스는 저축한 총액을 저장하는 인스턴스 변수가 있따. deposit(money) 메서드는 인수로 주어진 금액만큼 저축하고 총액을 출력한다, extract(money) 메소드는 money를 인출하고 총액을 출력한다. get_total() 메소드는 총액을 알려준다."
   ]
  },
  {
   "cell_type": "markdown",
   "id": "366cdbb0",
   "metadata": {},
   "source": [
    "2. my_money = Moneybos() 객체를 생성하고 1000원을 저축하고 200원을 인출한 다음 총액을 출력하라"
   ]
  },
  {
   "cell_type": "markdown",
   "id": "af470a02",
   "metadata": {},
   "source": [
    "3. Password_manager 클래스를 작성하라. 이 클래스는 사용자의 모든 과거 패스워드를 저장하는 old_passwords 리스트 변수를 갖는다. 리스트의 마지막 요소는 현재 패스워드이다. 현재 패스워드를 알려주는 get_password와 새로운 패스워드를 설정하는 set_password 메소드를 정\n",
    "의하라. set_password는 과거에 사용하지 않은 새로운 패스워드를 설정할 때만 유효하다. 문자열을 입력받아 현재 패스워드와 같은지 True 또는 False를 반환하는 is_correct 메소드를 정의하라."
   ]
  },
  {
   "cell_type": "markdown",
   "id": "1cfd5828",
   "metadata": {},
   "source": [
    "4. Articles 클래스를 작성하라. 이 클래스는 각각 제품의 이름, 재고 수량, 단가를 나타내는 name, stock, price 인스턴스 변수를 가지고 있다. offer_price() 메소드는 구매 수량을 인수로 전달받아 총 가격을 반환한다. 구매 수량이 1~10개 이하이면 정상 가격을 반환하고, 11~50개이면 5% 할인된 가격을 반환한다. 또 51개 이상이면 10% 할인해 준다. purchase() 메소드는 구매 수량을 인수로 전달받아 재고 수량을 구매 수량만큼 감소한다."
   ]
  },
  {
   "cell_type": "markdown",
   "id": "6e77063d",
   "metadata": {},
   "source": [
    "5. 이 클래스를 이용하여 단가 1000원인 ”mask“를 10,000장으로 설정하고, 40장 구매 가격과 구매 후 재고를 출력하라.\n"
   ]
  },
  {
   "cell_type": "markdown",
   "id": "8873f113",
   "metadata": {},
   "source": [
    "6. 다음 프로그램을 실행했을 때 아래 내용이 출력되도록 클래스를 정의하라. 학번(id) 앞 4자리가2018보다 작으면 grade() 메소드에 의해 “3학년입니다“가 출력되고 아니면 ”3학년이 아닙니다“가 출력된다."
   ]
  },
  {
   "cell_type": "code",
   "execution_count": null,
   "id": "52b7f914",
   "metadata": {},
   "outputs": [],
   "source": [
    "...\n",
    "man = Student(name = “홍길동”, id = 20150001, dept = “로봇공학과”)\n",
    "print(“이름: {}, 학번: {}, 학과: {}”.format(man.name, man.id,\n",
    "man.dept))\n",
    "man.grade()"
   ]
  },
  {
   "cell_type": "markdown",
   "id": "b46c7814",
   "metadata": {},
   "source": [
    "[출력 내용]  \n",
    "이름: 홍길동, 학번: 20150001, 학과: 로봇공학과  \n",
    "3학년입니다"
   ]
  },
  {
   "cell_type": "markdown",
   "id": "1a3c97d0",
   "metadata": {},
   "source": [
    "7. 다음 Person 클래스를 상속 받는 Employee 클래스를 정의하라. Employee 클래스에 employeeID 속성을 추가하고 getID() 메소드를 정의하라. getID() 메소드는 employeeID를 반환하는 메소드이다.\n",
    "Employee 클래스를 이용하여 Employee(\"동양\", 65, 2019)로 생성된 객체의 이름, 나이, ID를 출력하라."
   ]
  },
  {
   "cell_type": "markdown",
   "id": "252b6822",
   "metadata": {},
   "source": [
    "class Person:  \n",
    " def __init__(self, name, age):  \n",
    " self.name = name   \n",
    " self.age = age  \n",
    " def getName(self):   \n",
    " print(self.name)  \n",
    " def getAge(self):  \n",
    " print(self.age)  "
   ]
  },
  {
   "cell_type": "markdown",
   "id": "67268950",
   "metadata": {},
   "source": []
  }
 ],
 "metadata": {
  "kernelspec": {
   "display_name": "Python 3",
   "language": "python",
   "name": "python3"
  },
  "language_info": {
   "codemirror_mode": {
    "name": "ipython",
    "version": 3
   },
   "file_extension": ".py",
   "mimetype": "text/x-python",
   "name": "python",
   "nbconvert_exporter": "python",
   "pygments_lexer": "ipython3",
   "version": "3.11.9"
  }
 },
 "nbformat": 4,
 "nbformat_minor": 5
}
