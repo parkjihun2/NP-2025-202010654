{
 "cells": [
  {
   "cell_type": "markdown",
   "id": "771c0333",
   "metadata": {},
   "source": [
    "202010654박지훈"
   ]
  },
  {
   "cell_type": "markdown",
   "id": "b473d7a0",
   "metadata": {},
   "source": [
    "## 클래스"
   ]
  },
  {
   "cell_type": "markdown",
   "id": "3536ee3e",
   "metadata": {},
   "source": [
    "### 클래스 정의"
   ]
  },
  {
   "cell_type": "markdown",
   "id": "a0274818",
   "metadata": {},
   "source": [
    "class 클래스 이름(부모 클래스): < class 키워드로 정리\n",
    "    클래스 몸체\n",
    "\n",
    "클래스는 class 키워드로 정의됨. 부모 클래스는 없으면 생략\n",
    "클래스는 몸체 변수화 메소드로 구성"
   ]
  },
  {
   "cell_type": "markdown",
   "id": "938aad74",
   "metadata": {},
   "source": [
    "### 클래스 객체"
   ]
  },
  {
   "cell_type": "markdown",
   "id": "545fd150",
   "metadata": {},
   "source": [
    "클래스를 인스턴스화 하여 만들어진 것을 객체라 함\n",
    "객체는 클래스의 변수와 메소드에 접근할 수 있음"
   ]
  },
  {
   "cell_type": "code",
   "execution_count": 3,
   "id": "ad787e15",
   "metadata": {},
   "outputs": [
    {
     "name": "stdout",
     "output_type": "stream",
     "text": [
      "박지훈\n"
     ]
    }
   ],
   "source": [
    "class Test: #클래스 정의\n",
    "    name = \"박지훈\" #클래스 속성\n",
    "t=Test() #객체 생성\n",
    "print(t.name) #객체에 클래스 속성 접근"
   ]
  },
  {
   "cell_type": "markdown",
   "id": "cccadeb0",
   "metadata": {},
   "source": [
    "클래스의 예"
   ]
  },
  {
   "cell_type": "code",
   "execution_count": null,
   "id": "cbaaba18",
   "metadata": {},
   "outputs": [],
   "source": [
    "class Car:\n",
    "    def__init__(self, color, speed): #초기화 메소드.self는 객체를 나타냄\n",
    "        self.color = color #인스턴스 변수 정의\n",
    "        self.speed = speed\n",
    "    \n",
    "    def speedUp(self, v): #메소드의 첫 번째 매개변수는 self\n",
    "        self.speed = self.speed + v\n",
    "        return self.speed\n",
    "    def speedDown(self, v):\n",
    "        self.speed = self.speed - v\n",
    "        return self.speed"
   ]
  },
  {
   "cell_type": "markdown",
   "id": "c9dd74f2",
   "metadata": {},
   "source": [
    "초기화 함수"
   ]
  },
  {
   "cell_type": "code",
   "execution_count": null,
   "id": "62f2ea55",
   "metadata": {},
   "outputs": [],
   "source": [
    "class Car:\n",
    "    def__init__(self, color, speed):\n",
    "        self.color=color\n",
    "        self.speed=speed"
   ]
  },
  {
   "cell_type": "markdown",
   "id": "e8f77476",
   "metadata": {},
   "source": [
    "클래스 객체"
   ]
  },
  {
   "cell_type": "code",
   "execution_count": null,
   "id": "8ad59a00",
   "metadata": {},
   "outputs": [],
   "source": [
    "mycar = Car('Black', 60) #Car class 객체 생성\n",
    "print('색상: ', mycar.color, '속도: ', mycar.speed) #속성 접근\n",
    "mycar.color = \"Red\" #속성 변경도 가능\n",
    "print('색상: ', mycar.color)\n",
    "mycar.speedup(10) #speedup() method 호출\n",
    "print('속도: ', mycar.speed)\n",
    "mycar.speeddown(20) #speeddown() method 호출\n",
    "print('속도: ', mycar.speed)"
   ]
  },
  {
   "cell_type": "code",
   "execution_count": 12,
   "id": "ebd46a9e",
   "metadata": {},
   "outputs": [
    {
     "name": "stdout",
     "output_type": "stream",
     "text": [
      "(3, 0)\n",
      "2\n",
      "3\n",
      "1 0\n"
     ]
    }
   ],
   "source": [
    "class Calc:\n",
    "    count = 0  #클래스 변수. 클래스 내에서 유효\n",
    "    def add(self, a=0, b=0):\n",
    "        self.a = a  #인스턴스 변수\n",
    "        self.b = b\n",
    "        self.count += 1  #클래스 변수를 self와 함께 사용하면 인스턴스 변수처럼 사용\n",
    "        return self.a + self.b\n",
    "    def minus(self, a,b):\n",
    "        if a == 0 or b== 0:\n",
    "          return a - b, self.count\n",
    "        else:\n",
    "          return a-b\n",
    "obj = Calc()\n",
    "print(obj.minus(3,0)) #count 속성 출력\n",
    "print(obj.minus(3,1))\n",
    "print(obj.add(1, 2)) #count 속성 증가\n",
    "print(obj.count, Calc.count) # 인스턴스 변수(obj.count)는 변하지만 클래스변수(Calc.count)는 변하지 않음"
   ]
  },
  {
   "cell_type": "markdown",
   "id": "68550759",
   "metadata": {},
   "source": [
    "클래스 상속"
   ]
  },
  {
   "cell_type": "code",
   "execution_count": 20,
   "id": "874a8115",
   "metadata": {},
   "outputs": [],
   "source": [
    "class People :\n",
    "    def __init__(self, age=0, name=None):\n",
    "         self.__age = age\n",
    "         self.__name = name\n",
    "    def introMe(self):\n",
    "        print(\"Name :\", self.__name, \"age :\", str(self.__age))\n",
    "class Teacher(People) :\n",
    "    def __init__(self, age=0, name=None, school=None) :\n",
    "         super().__init__(age, name) #부모 클래스의 속성 할당. self 없음\n",
    "         self.school = school #자신의 인스턴스 변수 추가\n",
    "    def showSchool(self):\n",
    "        print(\"My School is \", self.school)"
   ]
  },
  {
   "cell_type": "code",
   "execution_count": 21,
   "id": "d7a7e60a",
   "metadata": {},
   "outputs": [
    {
     "name": "stdout",
     "output_type": "stream",
     "text": [
      "Name : Lee age : 29\n"
     ]
    }
   ],
   "source": [
    "p1=People(29, \"Lee\")\n",
    "p1.introMe()"
   ]
  },
  {
   "cell_type": "code",
   "execution_count": 22,
   "id": "ff4704dd",
   "metadata": {},
   "outputs": [
    {
     "name": "stdout",
     "output_type": "stream",
     "text": [
      "Name : Kim:, :HighSchool age : 48\n"
     ]
    }
   ],
   "source": [
    "t1=Teacher(48, \"Kim:, :HighSchool\")\n",
    "t1.introMe()"
   ]
  },
  {
   "cell_type": "code",
   "execution_count": 23,
   "id": "0b9b092c",
   "metadata": {},
   "outputs": [
    {
     "name": "stdout",
     "output_type": "stream",
     "text": [
      "My School is  None\n"
     ]
    }
   ],
   "source": [
    "t1.showSchool()"
   ]
  },
  {
   "cell_type": "markdown",
   "id": "c5073a59",
   "metadata": {},
   "source": [
    "### 메소드 오버라이딩\n",
    "\n",
    "자식클래스에서 부모클래스의 메소드를 수정해 다시 정의하는 것\n",
    "Student 클래스에서 People 클래스의 introMe() 메소드를 재정의하여 사용"
   ]
  },
  {
   "cell_type": "code",
   "execution_count": 29,
   "id": "4a496527",
   "metadata": {},
   "outputs": [],
   "source": [
    "class People : #부모 클래스\n",
    "    def __init__(self, age=0, name=None):\n",
    "        self.__age = age\n",
    "        self.__name = name\n",
    "    def introMe(self):\n",
    "        print(\"Name :\", self.__name, \"age :\", str(self.__age))\n",
    "class Student(People) : #자식 클래스\n",
    "    def __init__(self, age=0, name=None, grade=None):\n",
    "        super().__init__(age, name)\n",
    "        self.__grade = grade #자식 클래스의 변수\n",
    "    def introMe(self): #부모 클래스 메소드를 재정의(오버라이딩)\n",
    "        super().introMe()\n",
    "        print(\"Grade : \", self.__grade)"
   ]
  },
  {
   "cell_type": "code",
   "execution_count": 31,
   "id": "3d156461",
   "metadata": {},
   "outputs": [
    {
     "name": "stdout",
     "output_type": "stream",
     "text": [
      "Name : Lee age : 29\n"
     ]
    }
   ],
   "source": [
    "p1=People(29, \"Lee\")\n",
    "p1.introMe()"
   ]
  },
  {
   "cell_type": "code",
   "execution_count": 32,
   "id": "9ac9aa5c",
   "metadata": {},
   "outputs": [
    {
     "name": "stdout",
     "output_type": "stream",
     "text": [
      "Name : Park age : 17\n",
      "Grade :  2\n"
     ]
    }
   ],
   "source": [
    "s1=Student(17, \"Park\",2)\n",
    "s1.introMe()"
   ]
  },
  {
   "cell_type": "markdown",
   "id": "c51ea19f",
   "metadata": {},
   "source": [
    "### 다형성\n",
    "\n",
    "전달된 인자에 따라 함수 또는 연산의 기능이 달라지는 기능"
   ]
  },
  {
   "cell_type": "code",
   "execution_count": 35,
   "id": "bd494871",
   "metadata": {},
   "outputs": [
    {
     "name": "stdout",
     "output_type": "stream",
     "text": [
      "안녕하세요\n",
      "Hello\n"
     ]
    }
   ],
   "source": [
    "class Korean(object):\n",
    "    def greeting(self):\n",
    "        print(\"안녕하세요\")\n",
    "class American(object):\n",
    "    def greeting(self):\n",
    "        print(\"Hello\")\n",
    "def sayhello(people):\n",
    "        people.greeting()\n",
    "Kim = Korean() #Korean 클래스 객체\n",
    "John = American() #Americal 클래스 객체\n",
    "sayhello(Kim) #동일한 함수인데 인자에 따라 출력이 다름(안녕하세요)\n",
    "sayhello(John) #John을 전달하면 Hello"
   ]
  },
  {
   "cell_type": "markdown",
   "id": "041b02ac",
   "metadata": {},
   "source": [
    "### 가시성"
   ]
  },
  {
   "cell_type": "code",
   "execution_count": 36,
   "id": "dd65e1c6",
   "metadata": {},
   "outputs": [],
   "source": [
    "class Base:\n",
    "    def __init__(self):\n",
    "        self.public_value = 1 # public\n",
    "        self._protected_value = 2 # protected\n",
    "        self.__private_value = 3 # private\n",
    "class Child(Base):\n",
    "    def show(self):\n",
    "        print(self.public_value) # 가능\n",
    "        print(self._protected_value) # 가능\n",
    "        # print(self.__private_value) # 불가 (AttributeError)\n",
    "class Other:\n",
    "    def show(self, obj: Base):\n",
    "        print(obj.public_value) # 가능\n",
    "        print(obj._protected_value) # 가능 (하지만 권장되지 않음)\n",
    "        # print(obj.__private_value) # 불가 (AttributeError) "
   ]
  },
  {
   "cell_type": "markdown",
   "id": "28faa5e5",
   "metadata": {},
   "source": [
    "### 추상함수"
   ]
  },
  {
   "cell_type": "code",
   "execution_count": 37,
   "id": "51e0f8da",
   "metadata": {},
   "outputs": [
    {
     "name": "stdout",
     "output_type": "stream",
     "text": [
      "멍멍\n"
     ]
    }
   ],
   "source": [
    "from abc import ABC, abstractmethod\n",
    "\n",
    "class Animal(ABC):\n",
    "    @abstractmethod\n",
    "    def sound(self):\n",
    "        pass\n",
    "class Dog(Animal):\n",
    "    def sound(self):\n",
    "        return \"멍멍\"\n",
    "# a = Animal() # 에러: 추상 클래스는 인스턴스화 불가\n",
    "d = Dog()\n",
    "print(d.sound()) # \"멍멍\""
   ]
  },
  {
   "cell_type": "markdown",
   "id": "fcc631f2",
   "metadata": {},
   "source": [
    "### 정적 멤버"
   ]
  },
  {
   "cell_type": "code",
   "execution_count": 42,
   "id": "90db470d",
   "metadata": {},
   "outputs": [
    {
     "name": "stdout",
     "output_type": "stream",
     "text": [
      "1\n"
     ]
    },
    {
     "ename": "AttributeError",
     "evalue": "'Counter' object has no attribute 'object_counter'",
     "output_type": "error",
     "traceback": [
      "\u001b[31m---------------------------------------------------------------------------\u001b[39m",
      "\u001b[31mAttributeError\u001b[39m                            Traceback (most recent call last)",
      "\u001b[36mCell\u001b[39m\u001b[36m \u001b[39m\u001b[32mIn[42]\u001b[39m\u001b[32m, line 19\u001b[39m\n\u001b[32m     16\u001b[39m \u001b[38;5;28mprint\u001b[39m(Counter.count) \u001b[38;5;66;03m# 1\u001b[39;00m\n\u001b[32m     18\u001b[39m c = Counter() \u001b[38;5;66;03m# 인스턴스 생성\u001b[39;00m\n\u001b[32m---> \u001b[39m\u001b[32m19\u001b[39m \u001b[38;5;28mprint\u001b[39m(\u001b[43mc\u001b[49m\u001b[43m.\u001b[49m\u001b[43mobject_counter\u001b[49m) \u001b[38;5;66;03m# 1\u001b[39;00m\n\u001b[32m     20\u001b[39m c.increment_object()\n\u001b[32m     21\u001b[39m \u001b[38;5;28mprint\u001b[39m(c.__object_counter) \u001b[38;5;66;03m# private 접근 불가\u001b[39;00m\n",
      "\u001b[31mAttributeError\u001b[39m: 'Counter' object has no attribute 'object_counter'"
     ]
    }
   ],
   "source": [
    "class Counter:\n",
    "    count = 0 # 클래스 변수(정적 멤버)\n",
    "\n",
    "    def __init__(self):\n",
    "        self.__object_counter = 1 # public\n",
    "\n",
    "    @staticmethod\n",
    "    def increment_class():\n",
    "        Counter.count += 1\n",
    "\n",
    "    def increment_object(self):\n",
    "        self.__object_counter += 1 # private\n",
    "\n",
    "if __name__ == \"__main__\":\n",
    "    Counter.increment_class()\n",
    "    print(Counter.count) # 1\n",
    "\n",
    "    c = Counter() # 인스턴스 생성\n",
    "    print(c.object_counter) # 1\n",
    "    c.increment_object()\n",
    "    print(c.__object_counter) # private 접근 불가"
   ]
  },
  {
   "cell_type": "code",
   "execution_count": null,
   "id": "e509be64",
   "metadata": {},
   "outputs": [],
   "source": []
  }
 ],
 "metadata": {
  "kernelspec": {
   "display_name": "Python 3",
   "language": "python",
   "name": "python3"
  },
  "language_info": {
   "codemirror_mode": {
    "name": "ipython",
    "version": 3
   },
   "file_extension": ".py",
   "mimetype": "text/x-python",
   "name": "python",
   "nbconvert_exporter": "python",
   "pygments_lexer": "ipython3",
   "version": "3.11.9"
  }
 },
 "nbformat": 4,
 "nbformat_minor": 5
}
