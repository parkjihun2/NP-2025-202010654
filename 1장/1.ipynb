{
 "cells": [
  {
   "cell_type": "code",
   "execution_count": 2,
   "id": "aa963565",
   "metadata": {},
   "outputs": [
    {
     "name": "stdout",
     "output_type": "stream",
     "text": [
      "x =3\n"
     ]
    }
   ],
   "source": [
    "x = 3\n",
    "print(f\"x ={x}\")"
   ]
  },
  {
   "cell_type": "code",
   "execution_count": 3,
   "id": "28e2751c",
   "metadata": {},
   "outputs": [
    {
     "name": "stdout",
     "output_type": "stream",
     "text": [
      "30\n"
     ]
    }
   ],
   "source": [
    "print(10+20)"
   ]
  },
  {
   "cell_type": "code",
   "execution_count": 4,
   "id": "fcfd328c",
   "metadata": {},
   "outputs": [
    {
     "name": "stdout",
     "output_type": "stream",
     "text": [
      "서원대\n"
     ]
    }
   ],
   "source": [
    "print(\"서원대\")"
   ]
  },
  {
   "cell_type": "code",
   "execution_count": 5,
   "id": "da54ccf9",
   "metadata": {},
   "outputs": [
    {
     "name": "stdout",
     "output_type": "stream",
     "text": [
      "abcabcabc\n"
     ]
    }
   ],
   "source": [
    "print(\"abc\" *3)"
   ]
  },
  {
   "cell_type": "code",
   "execution_count": 6,
   "id": "9ce1d5b3",
   "metadata": {},
   "outputs": [
    {
     "name": "stdout",
     "output_type": "stream",
     "text": [
      "25 32\n"
     ]
    }
   ],
   "source": [
    "x=25\n",
    "y=32\n",
    "z= x+y\n",
    "print(x,y)"
   ]
  },
  {
   "cell_type": "code",
   "execution_count": 7,
   "id": "32529e0a",
   "metadata": {},
   "outputs": [
    {
     "name": "stdout",
     "output_type": "stream",
     "text": [
      "25 + 32 = 57\n"
     ]
    }
   ],
   "source": [
    "print(x,'+', y, '=',z)"
   ]
  },
  {
   "cell_type": "code",
   "execution_count": 8,
   "id": "afad3ab2",
   "metadata": {},
   "outputs": [
    {
     "name": "stdout",
     "output_type": "stream",
     "text": [
      "30\n"
     ]
    }
   ],
   "source": [
    "print(10+20)"
   ]
  },
  {
   "cell_type": "code",
   "execution_count": 9,
   "id": "f2f1c279",
   "metadata": {},
   "outputs": [
    {
     "name": "stdout",
     "output_type": "stream",
     "text": [
      "1020\n"
     ]
    }
   ],
   "source": [
    "print(\"10\"+\"20\")"
   ]
  },
  {
   "cell_type": "code",
   "execution_count": 10,
   "id": "f979bd45",
   "metadata": {},
   "outputs": [
    {
     "name": "stdout",
     "output_type": "stream",
     "text": [
      "abcabcabc\n"
     ]
    }
   ],
   "source": [
    "print(\"abc\" *3)"
   ]
  },
  {
   "cell_type": "code",
   "execution_count": 11,
   "id": "628f4f33",
   "metadata": {},
   "outputs": [
    {
     "name": "stdout",
     "output_type": "stream",
     "text": [
      "n=10\n"
     ]
    }
   ],
   "source": [
    "n=10\n",
    "print(\"n=%d\" %n)"
   ]
  },
  {
   "cell_type": "code",
   "execution_count": 12,
   "id": "fca33fcf",
   "metadata": {},
   "outputs": [
    {
     "name": "stdout",
     "output_type": "stream",
     "text": [
      "m=5.2, n=10\n"
     ]
    }
   ],
   "source": [
    "m=5.2\n",
    "print(\"m=%.1f, n=%d\" %(m,n)) #%.1f = 소숫점 1자리까지 표시"
   ]
  },
  {
   "cell_type": "code",
   "execution_count": 15,
   "id": "01e97e68",
   "metadata": {},
   "outputs": [],
   "source": [
    "n=input('type a number : ')"
   ]
  },
  {
   "cell_type": "code",
   "execution_count": 16,
   "id": "e8e86f7a",
   "metadata": {},
   "outputs": [
    {
     "data": {
      "text/plain": [
       "'3'"
      ]
     },
     "execution_count": 16,
     "metadata": {},
     "output_type": "execute_result"
    }
   ],
   "source": [
    "n"
   ]
  },
  {
   "cell_type": "code",
   "execution_count": 17,
   "id": "96cc2c87",
   "metadata": {},
   "outputs": [
    {
     "data": {
      "text/plain": [
       "3"
      ]
     },
     "execution_count": 17,
     "metadata": {},
     "output_type": "execute_result"
    }
   ],
   "source": [
    "int(n)"
   ]
  },
  {
   "cell_type": "code",
   "execution_count": 18,
   "id": "e3d45942",
   "metadata": {},
   "outputs": [
    {
     "data": {
      "text/plain": [
       "3.0"
      ]
     },
     "execution_count": 18,
     "metadata": {},
     "output_type": "execute_result"
    }
   ],
   "source": [
    "float(n)"
   ]
  },
  {
   "cell_type": "code",
   "execution_count": 19,
   "id": "2cb84186",
   "metadata": {},
   "outputs": [
    {
     "data": {
      "text/plain": [
       "'3'"
      ]
     },
     "execution_count": 19,
     "metadata": {},
     "output_type": "execute_result"
    }
   ],
   "source": [
    "n=str(3)\n",
    "n"
   ]
  },
  {
   "cell_type": "code",
   "execution_count": 20,
   "id": "3e78bb5f",
   "metadata": {},
   "outputs": [
    {
     "name": "stdout",
     "output_type": "stream",
     "text": [
      "Hello,박지훈\n"
     ]
    }
   ],
   "source": [
    "name=input('Name:')\n",
    "print(\"Hello,\" +name)"
   ]
  },
  {
   "cell_type": "code",
   "execution_count": 21,
   "id": "e973578e",
   "metadata": {},
   "outputs": [
    {
     "name": "stdout",
     "output_type": "stream",
     "text": [
      "28\n"
     ]
    }
   ],
   "source": [
    "a=int(input('Number 1:'))\n",
    "b=int(input('Number 2:'))\n",
    "print(a*b)"
   ]
  },
  {
   "cell_type": "code",
   "execution_count": 23,
   "id": "0cb56e5a",
   "metadata": {},
   "outputs": [
    {
     "name": "stdout",
     "output_type": "stream",
     "text": [
      "화씨온도는 78.8\n"
     ]
    }
   ],
   "source": [
    "c=float(input(\"Type 섭씨온도:\"))\n",
    "f=(c*9/5)+32 #온도변화\n",
    "print(\"화씨온도는\", f)"
   ]
  },
  {
   "cell_type": "code",
   "execution_count": 26,
   "id": "3a2beb1d",
   "metadata": {},
   "outputs": [
    {
     "data": {
      "text/plain": [
       "False"
      ]
     },
     "execution_count": 26,
     "metadata": {},
     "output_type": "execute_result"
    }
   ],
   "source": [
    "aVar = True\n",
    "bVar = False\n",
    "type(aVar)\n",
    "\n",
    "a=1\n",
    "b=2\n",
    "c=a>b\n",
    "c"
   ]
  },
  {
   "cell_type": "code",
   "execution_count": 28,
   "id": "3ec3e666",
   "metadata": {},
   "outputs": [
    {
     "data": {
      "text/plain": [
       "True"
      ]
     },
     "execution_count": 28,
     "metadata": {},
     "output_type": "execute_result"
    }
   ],
   "source": [
    "d=a<b\n",
    "d"
   ]
  },
  {
   "cell_type": "code",
   "execution_count": 29,
   "id": "338f2b3d",
   "metadata": {},
   "outputs": [
    {
     "data": {
      "text/plain": [
       "int"
      ]
     },
     "execution_count": 29,
     "metadata": {},
     "output_type": "execute_result"
    }
   ],
   "source": [
    "intVar = 5\n",
    "type(intVar)"
   ]
  },
  {
   "cell_type": "code",
   "execution_count": 31,
   "id": "0d2a6866",
   "metadata": {},
   "outputs": [
    {
     "data": {
      "text/plain": [
       "(1, 23, 3493)"
      ]
     },
     "execution_count": 31,
     "metadata": {},
     "output_type": "execute_result"
    }
   ],
   "source": [
    "1, 23, 3493\n",
    "0b010101, 0b110010\n",
    "0o1, 0o27, 0o6645\n",
    "0x1, 0x17, 0xDA5"
   ]
  },
  {
   "cell_type": "code",
   "execution_count": 32,
   "id": "2d7d0f6f",
   "metadata": {},
   "outputs": [
    {
     "data": {
      "text/plain": [
       "float"
      ]
     },
     "execution_count": 32,
     "metadata": {},
     "output_type": "execute_result"
    }
   ],
   "source": [
    "fVar = 1.0\n",
    "type(fVar)"
   ]
  },
  {
   "cell_type": "code",
   "execution_count": 33,
   "id": "c5965ce9",
   "metadata": {},
   "outputs": [
    {
     "data": {
      "text/plain": [
       "(100000.0000001, 65535, 4095, 170)"
      ]
     },
     "execution_count": 33,
     "metadata": {},
     "output_type": "execute_result"
    }
   ],
   "source": [
    "100_000.000_0001, 0x_FF_FF, 0o7_777,0b_1010_1010"
   ]
  },
  {
   "cell_type": "code",
   "execution_count": 34,
   "id": "de05c768",
   "metadata": {},
   "outputs": [
    {
     "data": {
      "text/plain": [
       "0.001027"
      ]
     },
     "execution_count": 34,
     "metadata": {},
     "output_type": "execute_result"
    }
   ],
   "source": [
    "0.00_10_27"
   ]
  },
  {
   "cell_type": "code",
   "execution_count": 35,
   "id": "ad7bc6ca",
   "metadata": {},
   "outputs": [
    {
     "data": {
      "text/plain": [
       "str"
      ]
     },
     "execution_count": 35,
     "metadata": {},
     "output_type": "execute_result"
    }
   ],
   "source": [
    "strVar=\"test\"\n",
    "type(strVar)"
   ]
  },
  {
   "cell_type": "code",
   "execution_count": 36,
   "id": "49c5083d",
   "metadata": {},
   "outputs": [
    {
     "data": {
      "text/plain": [
       "'This is another string'"
      ]
     },
     "execution_count": 36,
     "metadata": {},
     "output_type": "execute_result"
    }
   ],
   "source": [
    "'This is a literal string'\n",
    "\"This is another string\""
   ]
  },
  {
   "cell_type": "code",
   "execution_count": 41,
   "id": "1baaf377",
   "metadata": {},
   "outputs": [
    {
     "name": "stdout",
     "output_type": "stream",
     "text": [
      "1000\n",
      "3.3333333333333335\n",
      "3\n",
      "1\n"
     ]
    }
   ],
   "source": [
    "a= 10\n",
    "b=3\n",
    "c=a%b\n",
    "d=a//b\n",
    "e=a/b\n",
    "f=a**b \n",
    "print(f)\n",
    "print(e)\n",
    "print(d)\n",
    "print(c)\n"
   ]
  },
  {
   "cell_type": "code",
   "execution_count": null,
   "id": "32e3b847",
   "metadata": {},
   "outputs": [],
   "source": []
  }
 ],
 "metadata": {
  "kernelspec": {
   "display_name": "Python 3",
   "language": "python",
   "name": "python3"
  },
  "language_info": {
   "codemirror_mode": {
    "name": "ipython",
    "version": 3
   },
   "file_extension": ".py",
   "mimetype": "text/x-python",
   "name": "python",
   "nbconvert_exporter": "python",
   "pygments_lexer": "ipython3",
   "version": "3.11.9"
  }
 },
 "nbformat": 4,
 "nbformat_minor": 5
}
