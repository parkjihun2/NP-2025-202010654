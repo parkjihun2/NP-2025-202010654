{
 "cells": [
  {
   "cell_type": "markdown",
   "id": "ab18a9fc",
   "metadata": {},
   "source": [
    "202010654박지훈"
   ]
  },
  {
   "cell_type": "markdown",
   "id": "af05bf2e",
   "metadata": {},
   "source": [
    "1. 3명 이상 친구 이름 리스트를 작성하고 다음 내용을 프로그램하시오\n",
    "\n",
    "\n",
    "insert()로 맨 앞에 새로운 친구 추가\n",
    "\n",
    "\n",
    "insert()로 3번째 위치에 새로운 친구 추가\n",
    "\n",
    "\n",
    "append()로 마지막에 친구 추가"
   ]
  },
  {
   "cell_type": "markdown",
   "id": "66cbf974",
   "metadata": {},
   "source": [
    "2. 리스트[1,2,3]에 대해 다음과 같은 처리를 하라.\n",
    "\n",
    "두 번째 요소를 17로 수정\n",
    "\n",
    "리스트에 4,5,6을 추가\n",
    "\n",
    "첫 번째 요소 제거\n",
    "\n",
    "리스트를 요소 순서대로 배열하기\n",
    "\n",
    "인덱스 3에 25넣기"
   ]
  },
  {
   "cell_type": "markdown",
   "id": "0dd95bd9",
   "metadata": {},
   "source": [
    "3. for 루프를 이용하여 다음과 같은 리스트를 생성하라.\n",
    "\n",
    "0~49까지의 수로 구성되는 리스트\n",
    "\n",
    "1~50까지 수의 제곱으로 구성되는 리스트\n"
   ]
  },
  {
   "cell_type": "markdown",
   "id": "db54e483",
   "metadata": {},
   "source": [
    "4. 크기가 같은 두 개의 리스트 L,M을 생성하고 두 리스트의 각 요소 합으로 구성되는 새로운 리스트를 생성하라. 예를 들어 L=[1,2,3]이고 M=[4,5,6]이면 [5,7,9]인 리스트 생성"
   ]
  },
  {
   "cell_type": "markdown",
   "id": "821d1c5b",
   "metadata": {},
   "source": []
  }
 ],
 "metadata": {
  "language_info": {
   "name": "python"
  }
 },
 "nbformat": 4,
 "nbformat_minor": 5
}
