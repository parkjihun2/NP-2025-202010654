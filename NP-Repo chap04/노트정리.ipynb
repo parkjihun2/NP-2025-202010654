{
 "cells": [
  {
   "cell_type": "markdown",
   "id": "0f29e634",
   "metadata": {},
   "source": [
    "202010654 박지훈"
   ]
  },
  {
   "cell_type": "markdown",
   "id": "f73e7d95",
   "metadata": {},
   "source": [
    "문자열 한글자 찾기"
   ]
  },
  {
   "cell_type": "code",
   "execution_count": 1,
   "id": "867fdf87",
   "metadata": {},
   "outputs": [
    {
     "data": {
      "text/plain": [
       "'\\nhello\\npython\\n'"
      ]
     },
     "execution_count": 1,
     "metadata": {},
     "output_type": "execute_result"
    }
   ],
   "source": [
    "\"\"\"\n",
    "hello\n",
    "python\n",
    "\"\"\""
   ]
  },
  {
   "cell_type": "code",
   "execution_count": 2,
   "id": "2708bba3",
   "metadata": {},
   "outputs": [
    {
     "data": {
      "text/plain": [
       "'P'"
      ]
     },
     "execution_count": 2,
     "metadata": {},
     "output_type": "execute_result"
    }
   ],
   "source": [
    "word='Python'\n",
    "word[0]"
   ]
  },
  {
   "cell_type": "code",
   "execution_count": 7,
   "id": "95adfc9a",
   "metadata": {},
   "outputs": [
    {
     "data": {
      "text/plain": [
       "'n'"
      ]
     },
     "execution_count": 7,
     "metadata": {},
     "output_type": "execute_result"
    }
   ],
   "source": [
    "word[5]"
   ]
  },
  {
   "cell_type": "code",
   "execution_count": 8,
   "id": "3e5f79cb",
   "metadata": {},
   "outputs": [
    {
     "data": {
      "text/plain": [
       "'t'"
      ]
     },
     "execution_count": 8,
     "metadata": {},
     "output_type": "execute_result"
    }
   ],
   "source": [
    "word[2]"
   ]
  },
  {
   "cell_type": "code",
   "execution_count": 4,
   "id": "ee6dca05",
   "metadata": {},
   "outputs": [
    {
     "data": {
      "text/plain": [
       "'n'"
      ]
     },
     "execution_count": 4,
     "metadata": {},
     "output_type": "execute_result"
    }
   ],
   "source": [
    "word[-1]"
   ]
  },
  {
   "cell_type": "code",
   "execution_count": 5,
   "id": "009f9b98",
   "metadata": {},
   "outputs": [
    {
     "data": {
      "text/plain": [
       "'P'"
      ]
     },
     "execution_count": 5,
     "metadata": {},
     "output_type": "execute_result"
    }
   ],
   "source": [
    "word[-6]"
   ]
  },
  {
   "cell_type": "markdown",
   "id": "2887b4aa",
   "metadata": {},
   "source": [
    "앞에서 찾을땐 0부터 뒤에서 찾을땐 -1부터"
   ]
  },
  {
   "cell_type": "markdown",
   "id": "a84ad177",
   "metadata": {},
   "source": [
    "문자열 잘라내기"
   ]
  },
  {
   "cell_type": "code",
   "execution_count": 6,
   "id": "4038c5a0",
   "metadata": {},
   "outputs": [
    {
     "data": {
      "text/plain": [
       "'Py'"
      ]
     },
     "execution_count": 6,
     "metadata": {},
     "output_type": "execute_result"
    }
   ],
   "source": [
    "word='Python'\n",
    "word[0:2]"
   ]
  },
  {
   "cell_type": "code",
   "execution_count": 9,
   "id": "386b601a",
   "metadata": {},
   "outputs": [
    {
     "data": {
      "text/plain": [
       "'tho'"
      ]
     },
     "execution_count": 9,
     "metadata": {},
     "output_type": "execute_result"
    }
   ],
   "source": [
    "word[2:5]"
   ]
  },
  {
   "cell_type": "code",
   "execution_count": 10,
   "id": "b2297a84",
   "metadata": {},
   "outputs": [
    {
     "data": {
      "text/plain": [
       "'Py'"
      ]
     },
     "execution_count": 10,
     "metadata": {},
     "output_type": "execute_result"
    }
   ],
   "source": [
    "word[:2]"
   ]
  },
  {
   "cell_type": "code",
   "execution_count": 11,
   "id": "21f6ec80",
   "metadata": {},
   "outputs": [
    {
     "data": {
      "text/plain": [
       "'on'"
      ]
     },
     "execution_count": 11,
     "metadata": {},
     "output_type": "execute_result"
    }
   ],
   "source": [
    "word[4:]"
   ]
  },
  {
   "cell_type": "code",
   "execution_count": 12,
   "id": "68141a7a",
   "metadata": {},
   "outputs": [
    {
     "data": {
      "text/plain": [
       "'on'"
      ]
     },
     "execution_count": 12,
     "metadata": {},
     "output_type": "execute_result"
    }
   ],
   "source": [
    "word[-2:]"
   ]
  },
  {
   "cell_type": "code",
   "execution_count": 13,
   "id": "e274af7a",
   "metadata": {},
   "outputs": [
    {
     "data": {
      "text/plain": [
       "'Py'"
      ]
     },
     "execution_count": 13,
     "metadata": {},
     "output_type": "execute_result"
    }
   ],
   "source": [
    "word[:2]"
   ]
  },
  {
   "cell_type": "code",
   "execution_count": 14,
   "id": "9712f306",
   "metadata": {},
   "outputs": [
    {
     "data": {
      "text/plain": [
       "'thon'"
      ]
     },
     "execution_count": 14,
     "metadata": {},
     "output_type": "execute_result"
    }
   ],
   "source": [
    "word[2:]"
   ]
  },
  {
   "cell_type": "code",
   "execution_count": 15,
   "id": "03738770",
   "metadata": {},
   "outputs": [
    {
     "data": {
      "text/plain": [
       "'Python'"
      ]
     },
     "execution_count": 15,
     "metadata": {},
     "output_type": "execute_result"
    }
   ],
   "source": [
    "word[:2]+word[2:]"
   ]
  },
  {
   "cell_type": "markdown",
   "id": "be91dec6",
   "metadata": {},
   "source": [
    "잘라내기 할 때는 :뒤에 오는 숫자는 -1을 함"
   ]
  },
  {
   "cell_type": "code",
   "execution_count": 17,
   "id": "9b5c13cb",
   "metadata": {},
   "outputs": [
    {
     "data": {
      "text/plain": [
       "'on'"
      ]
     },
     "execution_count": 17,
     "metadata": {},
     "output_type": "execute_result"
    }
   ],
   "source": [
    "word[4:42]\n"
   ]
  },
  {
   "cell_type": "code",
   "execution_count": 18,
   "id": "153cf401",
   "metadata": {},
   "outputs": [
    {
     "data": {
      "text/plain": [
       "''"
      ]
     },
     "execution_count": 18,
     "metadata": {},
     "output_type": "execute_result"
    }
   ],
   "source": [
    "word[42:]"
   ]
  },
  {
   "cell_type": "code",
   "execution_count": 20,
   "id": "3bb3d4a4",
   "metadata": {},
   "outputs": [
    {
     "ename": "NameError",
     "evalue": "name 'J' is not defined",
     "output_type": "error",
     "traceback": [
      "\u001b[31m---------------------------------------------------------------------------\u001b[39m",
      "\u001b[31mNameError\u001b[39m                                 Traceback (most recent call last)",
      "\u001b[36mCell\u001b[39m\u001b[36m \u001b[39m\u001b[32mIn[20]\u001b[39m\u001b[32m, line 1\u001b[39m\n\u001b[32m----> \u001b[39m\u001b[32m1\u001b[39m word[\u001b[32m0\u001b[39m]=\u001b[43mJ\u001b[49m\n",
      "\u001b[31mNameError\u001b[39m: name 'J' is not defined"
     ]
    }
   ],
   "source": [
    "word[0]=J"
   ]
  },
  {
   "cell_type": "code",
   "execution_count": null,
   "id": "a92a28e7",
   "metadata": {},
   "outputs": [
    {
     "data": {
      "text/plain": [
       "'Jython'"
      ]
     },
     "execution_count": 21,
     "metadata": {},
     "output_type": "execute_result"
    }
   ],
   "source": [
    "word='Python'\n",
    "word2 = 'J' +word[1:]\n",
    "word2\n"
   ]
  },
  {
   "cell_type": "code",
   "execution_count": 23,
   "id": "5820b38c",
   "metadata": {},
   "outputs": [
    {
     "data": {
      "text/plain": [
       "'PJython'"
      ]
     },
     "execution_count": 23,
     "metadata": {},
     "output_type": "execute_result"
    }
   ],
   "source": [
    "word3= 'P' +word2[0:]\n",
    "word3"
   ]
  },
  {
   "cell_type": "code",
   "execution_count": 29,
   "id": "a925d126",
   "metadata": {},
   "outputs": [
    {
     "data": {
      "text/plain": [
       "'TPJython'"
      ]
     },
     "execution_count": 29,
     "metadata": {},
     "output_type": "execute_result"
    }
   ],
   "source": [
    "word4= 'T' +word3[0:]\n",
    "word4"
   ]
  },
  {
   "cell_type": "code",
   "execution_count": 1,
   "id": "ba109b26",
   "metadata": {},
   "outputs": [
    {
     "data": {
      "text/plain": [
       "6"
      ]
     },
     "execution_count": 1,
     "metadata": {},
     "output_type": "execute_result"
    }
   ],
   "source": [
    "s='smiles'\n",
    "len(s)"
   ]
  },
  {
   "cell_type": "markdown",
   "id": "3b484f8c",
   "metadata": {},
   "source": [
    "길이 확인은 1부터 시작"
   ]
  },
  {
   "cell_type": "code",
   "execution_count": 8,
   "id": "d2a3f144",
   "metadata": {},
   "outputs": [
    {
     "name": "stdout",
     "output_type": "stream",
     "text": [
      "Reversed string: \n"
     ]
    }
   ],
   "source": [
    "outStr=\"\"\n",
    "count, i=0,0\n",
    "\n",
    "inStr=input(\"Type string:\")\n",
    "sount=len(inStr)\n",
    "\n",
    "for i in range(0, count):\n",
    "    outStr+=inStr[count-(i+1)]\n",
    "print(\"Reversed string: %s\" % outStr)"
   ]
  },
  {
   "cell_type": "code",
   "execution_count": 6,
   "id": "a9a1453d",
   "metadata": {},
   "outputs": [
    {
     "data": {
      "text/plain": [
       "True"
      ]
     },
     "execution_count": 6,
     "metadata": {},
     "output_type": "execute_result"
    }
   ],
   "source": [
    "'a' in 'cat'"
   ]
  },
  {
   "cell_type": "code",
   "execution_count": 7,
   "id": "63e2fe13",
   "metadata": {},
   "outputs": [
    {
     "data": {
      "text/plain": [
       "False"
      ]
     },
     "execution_count": 7,
     "metadata": {},
     "output_type": "execute_result"
    }
   ],
   "source": [
    "'a' not in 'can'"
   ]
  },
  {
   "cell_type": "code",
   "execution_count": null,
   "id": "73c7069f",
   "metadata": {},
   "outputs": [
    {
     "data": {
      "text/plain": [
       "'QWER'"
      ]
     },
     "execution_count": 12,
     "metadata": {},
     "output_type": "execute_result"
    }
   ],
   "source": [
    "str='qwer'\n",
    "str.upper()"
   ]
  },
  {
   "cell_type": "code",
   "execution_count": 13,
   "id": "0dc0e782",
   "metadata": {},
   "outputs": [
    {
     "data": {
      "text/plain": [
       "'qWER'"
      ]
     },
     "execution_count": 13,
     "metadata": {},
     "output_type": "execute_result"
    }
   ],
   "source": [
    "str='Qwer'\n",
    "str.swapcase()"
   ]
  },
  {
   "cell_type": "code",
   "execution_count": 15,
   "id": "2028f77e",
   "metadata": {},
   "outputs": [
    {
     "data": {
      "text/plain": [
       "2"
      ]
     },
     "execution_count": 15,
     "metadata": {},
     "output_type": "execute_result"
    }
   ],
   "source": [
    "str=\"Python programming is easy\"\n",
    "str.count('i')"
   ]
  },
  {
   "cell_type": "code",
   "execution_count": 16,
   "id": "57e104d1",
   "metadata": {},
   "outputs": [
    {
     "data": {
      "text/plain": [
       "4"
      ]
     },
     "execution_count": 16,
     "metadata": {},
     "output_type": "execute_result"
    }
   ],
   "source": [
    "str.find('o')"
   ]
  },
  {
   "cell_type": "code",
   "execution_count": 17,
   "id": "d7b12c53",
   "metadata": {},
   "outputs": [
    {
     "data": {
      "text/plain": [
       "9"
      ]
     },
     "execution_count": 17,
     "metadata": {},
     "output_type": "execute_result"
    }
   ],
   "source": [
    "str.rfind('o')"
   ]
  },
  {
   "cell_type": "code",
   "execution_count": 18,
   "id": "012bc67f",
   "metadata": {},
   "outputs": [
    {
     "data": {
      "text/plain": [
       "4"
      ]
     },
     "execution_count": 18,
     "metadata": {},
     "output_type": "execute_result"
    }
   ],
   "source": [
    "str.index('on')"
   ]
  },
  {
   "cell_type": "code",
   "execution_count": 19,
   "id": "857c3333",
   "metadata": {},
   "outputs": [
    {
     "data": {
      "text/plain": [
       "['a', 'bc']"
      ]
     },
     "execution_count": 19,
     "metadata": {},
     "output_type": "execute_result"
    }
   ],
   "source": [
    "x='a bc'\n",
    "x.split()"
   ]
  },
  {
   "cell_type": "code",
   "execution_count": 20,
   "id": "f65ddc0b",
   "metadata": {},
   "outputs": [
    {
     "data": {
      "text/plain": [
       "['a ', 'c']"
      ]
     },
     "execution_count": 20,
     "metadata": {},
     "output_type": "execute_result"
    }
   ],
   "source": [
    "x.split('b')"
   ]
  },
  {
   "cell_type": "code",
   "execution_count": 25,
   "id": "bf3ae98a",
   "metadata": {},
   "outputs": [
    {
     "data": {
      "text/plain": [
       "'hello'"
      ]
     },
     "execution_count": 25,
     "metadata": {},
     "output_type": "execute_result"
    }
   ],
   "source": [
    "str=' hello '\n",
    "str.strip()"
   ]
  },
  {
   "cell_type": "code",
   "execution_count": 26,
   "id": "26a3d907",
   "metadata": {},
   "outputs": [
    {
     "data": {
      "text/plain": [
       "' hello '"
      ]
     },
     "execution_count": 26,
     "metadata": {},
     "output_type": "execute_result"
    }
   ],
   "source": [
    "str"
   ]
  },
  {
   "cell_type": "code",
   "execution_count": 27,
   "id": "fbe6edda",
   "metadata": {},
   "outputs": [
    {
     "data": {
      "text/plain": [
       "' hello'"
      ]
     },
     "execution_count": 27,
     "metadata": {},
     "output_type": "execute_result"
    }
   ],
   "source": [
    "str.rstrip()"
   ]
  },
  {
   "cell_type": "code",
   "execution_count": 28,
   "id": "a476964a",
   "metadata": {},
   "outputs": [
    {
     "data": {
      "text/plain": [
       "'hello '"
      ]
     },
     "execution_count": 28,
     "metadata": {},
     "output_type": "execute_result"
    }
   ],
   "source": [
    "str.lstrip()"
   ]
  },
  {
   "cell_type": "code",
   "execution_count": 29,
   "id": "a8ff9899",
   "metadata": {},
   "outputs": [
    {
     "data": {
      "text/plain": [
       "'   he'"
      ]
     },
     "execution_count": 29,
     "metadata": {},
     "output_type": "execute_result"
    }
   ],
   "source": [
    "'he'.rjust(5)"
   ]
  },
  {
   "cell_type": "code",
   "execution_count": 31,
   "id": "c57515a2",
   "metadata": {},
   "outputs": [
    {
     "data": {
      "text/plain": [
       "'he   '"
      ]
     },
     "execution_count": 31,
     "metadata": {},
     "output_type": "execute_result"
    }
   ],
   "source": [
    "'he'.ljust(5)"
   ]
  },
  {
   "cell_type": "code",
   "execution_count": 32,
   "id": "2c03eb41",
   "metadata": {},
   "outputs": [
    {
     "data": {
      "text/plain": [
       "'  he '"
      ]
     },
     "execution_count": 32,
     "metadata": {},
     "output_type": "execute_result"
    }
   ],
   "source": [
    "'he'.center(5)"
   ]
  },
  {
   "cell_type": "code",
   "execution_count": null,
   "id": "612c59de",
   "metadata": {},
   "outputs": [],
   "source": []
  }
 ],
 "metadata": {
  "kernelspec": {
   "display_name": "Python 3",
   "language": "python",
   "name": "python3"
  },
  "language_info": {
   "codemirror_mode": {
    "name": "ipython",
    "version": 3
   },
   "file_extension": ".py",
   "mimetype": "text/x-python",
   "name": "python",
   "nbconvert_exporter": "python",
   "pygments_lexer": "ipython3",
   "version": "3.11.9"
  }
 },
 "nbformat": 4,
 "nbformat_minor": 5
}
