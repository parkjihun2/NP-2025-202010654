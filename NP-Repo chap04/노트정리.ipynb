{
 "cells": [
  {
   "cell_type": "markdown",
   "id": "0f29e634",
   "metadata": {},
   "source": [
    "202010654 박지훈"
   ]
  },
  {
   "cell_type": "markdown",
   "id": "a81bd0b7",
   "metadata": {},
   "source": [
    "문자열"
   ]
  },
  {
   "cell_type": "markdown",
   "id": "cc584b00",
   "metadata": {},
   "source": [
    "문자열 요소(문자)를 개별적으로 사용하기"
   ]
  },
  {
   "cell_type": "code",
   "execution_count": 1,
   "id": "867fdf87",
   "metadata": {},
   "outputs": [
    {
     "data": {
      "text/plain": [
       "'\\nhello\\npython\\n'"
      ]
     },
     "execution_count": 1,
     "metadata": {},
     "output_type": "execute_result"
    }
   ],
   "source": [
    "\"\"\"\n",
    "hello\n",
    "python\n",
    "\"\"\""
   ]
  },
  {
   "cell_type": "code",
   "execution_count": 2,
   "id": "2708bba3",
   "metadata": {},
   "outputs": [
    {
     "data": {
      "text/plain": [
       "'P'"
      ]
     },
     "execution_count": 2,
     "metadata": {},
     "output_type": "execute_result"
    }
   ],
   "source": [
    "word='Python'\n",
    "word[0]"
   ]
  },
  {
   "cell_type": "code",
   "execution_count": 7,
   "id": "95adfc9a",
   "metadata": {},
   "outputs": [
    {
     "data": {
      "text/plain": [
       "'n'"
      ]
     },
     "execution_count": 7,
     "metadata": {},
     "output_type": "execute_result"
    }
   ],
   "source": [
    "word[5]"
   ]
  },
  {
   "cell_type": "code",
   "execution_count": 8,
   "id": "3e5f79cb",
   "metadata": {},
   "outputs": [
    {
     "data": {
      "text/plain": [
       "'t'"
      ]
     },
     "execution_count": 8,
     "metadata": {},
     "output_type": "execute_result"
    }
   ],
   "source": [
    "word[2]"
   ]
  },
  {
   "cell_type": "code",
   "execution_count": 4,
   "id": "ee6dca05",
   "metadata": {},
   "outputs": [
    {
     "data": {
      "text/plain": [
       "'n'"
      ]
     },
     "execution_count": 4,
     "metadata": {},
     "output_type": "execute_result"
    }
   ],
   "source": [
    "word[-1]"
   ]
  },
  {
   "cell_type": "code",
   "execution_count": 5,
   "id": "009f9b98",
   "metadata": {},
   "outputs": [
    {
     "data": {
      "text/plain": [
       "'P'"
      ]
     },
     "execution_count": 5,
     "metadata": {},
     "output_type": "execute_result"
    }
   ],
   "source": [
    "word[-6]"
   ]
  },
  {
   "cell_type": "markdown",
   "id": "a84ad177",
   "metadata": {},
   "source": [
    "문자열 잘라내기"
   ]
  },
  {
   "cell_type": "code",
   "execution_count": 6,
   "id": "4038c5a0",
   "metadata": {},
   "outputs": [
    {
     "data": {
      "text/plain": [
       "'Py'"
      ]
     },
     "execution_count": 6,
     "metadata": {},
     "output_type": "execute_result"
    }
   ],
   "source": [
    "word='Python'\n",
    "word[0:2]"
   ]
  },
  {
   "cell_type": "code",
   "execution_count": 9,
   "id": "386b601a",
   "metadata": {},
   "outputs": [
    {
     "data": {
      "text/plain": [
       "'tho'"
      ]
     },
     "execution_count": 9,
     "metadata": {},
     "output_type": "execute_result"
    }
   ],
   "source": [
    "word[2:5]"
   ]
  },
  {
   "cell_type": "code",
   "execution_count": 10,
   "id": "b2297a84",
   "metadata": {},
   "outputs": [
    {
     "data": {
      "text/plain": [
       "'Py'"
      ]
     },
     "execution_count": 10,
     "metadata": {},
     "output_type": "execute_result"
    }
   ],
   "source": [
    "word[:2]"
   ]
  },
  {
   "cell_type": "code",
   "execution_count": 11,
   "id": "21f6ec80",
   "metadata": {},
   "outputs": [
    {
     "data": {
      "text/plain": [
       "'on'"
      ]
     },
     "execution_count": 11,
     "metadata": {},
     "output_type": "execute_result"
    }
   ],
   "source": [
    "word[4:]"
   ]
  },
  {
   "cell_type": "code",
   "execution_count": 12,
   "id": "68141a7a",
   "metadata": {},
   "outputs": [
    {
     "data": {
      "text/plain": [
       "'on'"
      ]
     },
     "execution_count": 12,
     "metadata": {},
     "output_type": "execute_result"
    }
   ],
   "source": [
    "word[-2:]"
   ]
  },
  {
   "cell_type": "code",
   "execution_count": 13,
   "id": "e274af7a",
   "metadata": {},
   "outputs": [
    {
     "data": {
      "text/plain": [
       "'Py'"
      ]
     },
     "execution_count": 13,
     "metadata": {},
     "output_type": "execute_result"
    }
   ],
   "source": [
    "word[:2]"
   ]
  },
  {
   "cell_type": "code",
   "execution_count": 14,
   "id": "9712f306",
   "metadata": {},
   "outputs": [
    {
     "data": {
      "text/plain": [
       "'thon'"
      ]
     },
     "execution_count": 14,
     "metadata": {},
     "output_type": "execute_result"
    }
   ],
   "source": [
    "word[2:]"
   ]
  },
  {
   "cell_type": "code",
   "execution_count": 15,
   "id": "03738770",
   "metadata": {},
   "outputs": [
    {
     "data": {
      "text/plain": [
       "'Python'"
      ]
     },
     "execution_count": 15,
     "metadata": {},
     "output_type": "execute_result"
    }
   ],
   "source": [
    "word[:2]+word[2:]"
   ]
  },
  {
   "cell_type": "code",
   "execution_count": 17,
   "id": "9b5c13cb",
   "metadata": {},
   "outputs": [
    {
     "data": {
      "text/plain": [
       "'on'"
      ]
     },
     "execution_count": 17,
     "metadata": {},
     "output_type": "execute_result"
    }
   ],
   "source": [
    "word[4:42]\n"
   ]
  },
  {
   "cell_type": "markdown",
   "id": "ebbac8f6",
   "metadata": {},
   "source": [
    "문자열 인덱싱과 슬라이싱 오류"
   ]
  },
  {
   "cell_type": "code",
   "execution_count": 18,
   "id": "153cf401",
   "metadata": {},
   "outputs": [
    {
     "data": {
      "text/plain": [
       "''"
      ]
     },
     "execution_count": 18,
     "metadata": {},
     "output_type": "execute_result"
    }
   ],
   "source": [
    "word[42:]"
   ]
  },
  {
   "cell_type": "markdown",
   "id": "a5597bdb",
   "metadata": {},
   "source": [
    "문자열은 수정 불가"
   ]
  },
  {
   "cell_type": "code",
   "execution_count": 20,
   "id": "3bb3d4a4",
   "metadata": {},
   "outputs": [
    {
     "ename": "NameError",
     "evalue": "name 'J' is not defined",
     "output_type": "error",
     "traceback": [
      "\u001b[31m---------------------------------------------------------------------------\u001b[39m",
      "\u001b[31mNameError\u001b[39m                                 Traceback (most recent call last)",
      "\u001b[36mCell\u001b[39m\u001b[36m \u001b[39m\u001b[32mIn[20]\u001b[39m\u001b[32m, line 1\u001b[39m\n\u001b[32m----> \u001b[39m\u001b[32m1\u001b[39m word[\u001b[32m0\u001b[39m]=\u001b[43mJ\u001b[49m\n",
      "\u001b[31mNameError\u001b[39m: name 'J' is not defined"
     ]
    }
   ],
   "source": [
    "word[0]=J"
   ]
  },
  {
   "cell_type": "markdown",
   "id": "b288e74e",
   "metadata": {},
   "source": [
    "슬라이싱을 이용하여 새로운 문자열 만들기"
   ]
  },
  {
   "cell_type": "code",
   "execution_count": null,
   "id": "a92a28e7",
   "metadata": {},
   "outputs": [
    {
     "data": {
      "text/plain": [
       "'Jython'"
      ]
     },
     "execution_count": 21,
     "metadata": {},
     "output_type": "execute_result"
    }
   ],
   "source": [
    "word='Python'\n",
    "word2 = 'J' +word[1:]\n",
    "word2\n"
   ]
  },
  {
   "cell_type": "code",
   "execution_count": 23,
   "id": "5820b38c",
   "metadata": {},
   "outputs": [
    {
     "data": {
      "text/plain": [
       "'PJython'"
      ]
     },
     "execution_count": 23,
     "metadata": {},
     "output_type": "execute_result"
    }
   ],
   "source": [
    "word3= 'P' +word2[0:]\n",
    "word3"
   ]
  },
  {
   "cell_type": "code",
   "execution_count": 29,
   "id": "a925d126",
   "metadata": {},
   "outputs": [
    {
     "data": {
      "text/plain": [
       "'TPJython'"
      ]
     },
     "execution_count": 29,
     "metadata": {},
     "output_type": "execute_result"
    }
   ],
   "source": [
    "word4= 'T' +word3[0:]\n",
    "word4"
   ]
  },
  {
   "cell_type": "markdown",
   "id": "7f22d412",
   "metadata": {},
   "source": [
    "문자열 길이 확인"
   ]
  },
  {
   "cell_type": "code",
   "execution_count": 1,
   "id": "ba109b26",
   "metadata": {},
   "outputs": [
    {
     "data": {
      "text/plain": [
       "6"
      ]
     },
     "execution_count": 1,
     "metadata": {},
     "output_type": "execute_result"
    }
   ],
   "source": [
    "s='smiles'\n",
    "len(s)"
   ]
  },
  {
   "cell_type": "markdown",
   "id": "a6c328de",
   "metadata": {},
   "source": [
    "index를 이용하여 문자열의 문자를 역순으로 만들기"
   ]
  },
  {
   "cell_type": "code",
   "execution_count": 8,
   "id": "d2a3f144",
   "metadata": {},
   "outputs": [
    {
     "name": "stdout",
     "output_type": "stream",
     "text": [
      "Reversed string: \n"
     ]
    }
   ],
   "source": [
    "outStr=\"\"\n",
    "count, i=0,0\n",
    "\n",
    "inStr=input(\"Type string:\")\n",
    "sount=len(inStr)\n",
    "\n",
    "for i in range(0, count):\n",
    "    outStr+=inStr[count-(i+1)]\n",
    "print(\"Reversed string: %s\" % outStr)"
   ]
  },
  {
   "cell_type": "markdown",
   "id": "1f005ff1",
   "metadata": {},
   "source": [
    "문자열에서 문자 조사하기"
   ]
  },
  {
   "cell_type": "code",
   "execution_count": 6,
   "id": "a9a1453d",
   "metadata": {},
   "outputs": [
    {
     "data": {
      "text/plain": [
       "True"
      ]
     },
     "execution_count": 6,
     "metadata": {},
     "output_type": "execute_result"
    }
   ],
   "source": [
    "'a' in 'cat'"
   ]
  },
  {
   "cell_type": "code",
   "execution_count": 7,
   "id": "63e2fe13",
   "metadata": {},
   "outputs": [
    {
     "data": {
      "text/plain": [
       "False"
      ]
     },
     "execution_count": 7,
     "metadata": {},
     "output_type": "execute_result"
    }
   ],
   "source": [
    "'a' not in 'can'"
   ]
  },
  {
   "cell_type": "code",
   "execution_count": null,
   "id": "73c7069f",
   "metadata": {},
   "outputs": [
    {
     "data": {
      "text/plain": [
       "'QWER'"
      ]
     },
     "execution_count": 12,
     "metadata": {},
     "output_type": "execute_result"
    }
   ],
   "source": [
    "str='qwer'\n",
    "str.upper()"
   ]
  },
  {
   "cell_type": "code",
   "execution_count": 13,
   "id": "0dc0e782",
   "metadata": {},
   "outputs": [
    {
     "data": {
      "text/plain": [
       "'qWER'"
      ]
     },
     "execution_count": 13,
     "metadata": {},
     "output_type": "execute_result"
    }
   ],
   "source": [
    "str='Qwer'\n",
    "str.swapcase()"
   ]
  },
  {
   "cell_type": "markdown",
   "id": "ab5a4546",
   "metadata": {},
   "source": [
    "문자열 찾기"
   ]
  },
  {
   "cell_type": "code",
   "execution_count": 15,
   "id": "2028f77e",
   "metadata": {},
   "outputs": [
    {
     "data": {
      "text/plain": [
       "2"
      ]
     },
     "execution_count": 15,
     "metadata": {},
     "output_type": "execute_result"
    }
   ],
   "source": [
    "str=\"Python programming is easy\"\n",
    "str.count('i')"
   ]
  },
  {
   "cell_type": "code",
   "execution_count": 16,
   "id": "57e104d1",
   "metadata": {},
   "outputs": [
    {
     "data": {
      "text/plain": [
       "4"
      ]
     },
     "execution_count": 16,
     "metadata": {},
     "output_type": "execute_result"
    }
   ],
   "source": [
    "str.find('o')"
   ]
  },
  {
   "cell_type": "code",
   "execution_count": 17,
   "id": "d7b12c53",
   "metadata": {},
   "outputs": [
    {
     "data": {
      "text/plain": [
       "9"
      ]
     },
     "execution_count": 17,
     "metadata": {},
     "output_type": "execute_result"
    }
   ],
   "source": [
    "str.rfind('o')"
   ]
  },
  {
   "cell_type": "code",
   "execution_count": 18,
   "id": "012bc67f",
   "metadata": {},
   "outputs": [
    {
     "data": {
      "text/plain": [
       "4"
      ]
     },
     "execution_count": 18,
     "metadata": {},
     "output_type": "execute_result"
    }
   ],
   "source": [
    "str.index('on')"
   ]
  },
  {
   "cell_type": "markdown",
   "id": "d03efbf6",
   "metadata": {},
   "source": [
    "문자열 분리하기"
   ]
  },
  {
   "cell_type": "code",
   "execution_count": 19,
   "id": "857c3333",
   "metadata": {},
   "outputs": [
    {
     "data": {
      "text/plain": [
       "['a', 'bc']"
      ]
     },
     "execution_count": 19,
     "metadata": {},
     "output_type": "execute_result"
    }
   ],
   "source": [
    "x='a bc'\n",
    "x.split()"
   ]
  },
  {
   "cell_type": "code",
   "execution_count": 20,
   "id": "f65ddc0b",
   "metadata": {},
   "outputs": [
    {
     "data": {
      "text/plain": [
       "['a ', 'c']"
      ]
     },
     "execution_count": 20,
     "metadata": {},
     "output_type": "execute_result"
    }
   ],
   "source": [
    "x.split('b')"
   ]
  },
  {
   "cell_type": "markdown",
   "id": "062c6e0a",
   "metadata": {},
   "source": [
    "문자열에서 공백 제거하기"
   ]
  },
  {
   "cell_type": "code",
   "execution_count": 25,
   "id": "bf3ae98a",
   "metadata": {},
   "outputs": [
    {
     "data": {
      "text/plain": [
       "'hello'"
      ]
     },
     "execution_count": 25,
     "metadata": {},
     "output_type": "execute_result"
    }
   ],
   "source": [
    "str=' hello '\n",
    "str.strip()"
   ]
  },
  {
   "cell_type": "code",
   "execution_count": 26,
   "id": "26a3d907",
   "metadata": {},
   "outputs": [
    {
     "data": {
      "text/plain": [
       "' hello '"
      ]
     },
     "execution_count": 26,
     "metadata": {},
     "output_type": "execute_result"
    }
   ],
   "source": [
    "str"
   ]
  },
  {
   "cell_type": "code",
   "execution_count": 27,
   "id": "fbe6edda",
   "metadata": {},
   "outputs": [
    {
     "data": {
      "text/plain": [
       "' hello'"
      ]
     },
     "execution_count": 27,
     "metadata": {},
     "output_type": "execute_result"
    }
   ],
   "source": [
    "str.rstrip()"
   ]
  },
  {
   "cell_type": "code",
   "execution_count": 28,
   "id": "a476964a",
   "metadata": {},
   "outputs": [
    {
     "data": {
      "text/plain": [
       "'hello '"
      ]
     },
     "execution_count": 28,
     "metadata": {},
     "output_type": "execute_result"
    }
   ],
   "source": [
    "str.lstrip()"
   ]
  },
  {
   "cell_type": "markdown",
   "id": "b3bafbcd",
   "metadata": {},
   "source": [
    "문자열 결합하기\n"
   ]
  },
  {
   "cell_type": "code",
   "execution_count": 39,
   "id": "27f8d483",
   "metadata": {},
   "outputs": [
    {
     "data": {
      "text/plain": [
       "'h*e*l*l*o'"
      ]
     },
     "execution_count": 39,
     "metadata": {},
     "output_type": "execute_result"
    }
   ],
   "source": [
    "'*'.join('hello')"
   ]
  },
  {
   "cell_type": "markdown",
   "id": "20e78684",
   "metadata": {},
   "source": [
    "문자열 채우기\n"
   ]
  },
  {
   "cell_type": "code",
   "execution_count": 42,
   "id": "ce73f0e0",
   "metadata": {},
   "outputs": [
    {
     "data": {
      "text/plain": [
       "'00012'"
      ]
     },
     "execution_count": 42,
     "metadata": {},
     "output_type": "execute_result"
    }
   ],
   "source": [
    "'12'.zfill(5)"
   ]
  },
  {
   "cell_type": "code",
   "execution_count": 29,
   "id": "a8ff9899",
   "metadata": {},
   "outputs": [
    {
     "data": {
      "text/plain": [
       "'   he'"
      ]
     },
     "execution_count": 29,
     "metadata": {},
     "output_type": "execute_result"
    }
   ],
   "source": [
    "'he'.rjust(5)"
   ]
  },
  {
   "cell_type": "code",
   "execution_count": 31,
   "id": "c57515a2",
   "metadata": {},
   "outputs": [
    {
     "data": {
      "text/plain": [
       "'he   '"
      ]
     },
     "execution_count": 31,
     "metadata": {},
     "output_type": "execute_result"
    }
   ],
   "source": [
    "'he'.ljust(5)"
   ]
  },
  {
   "cell_type": "code",
   "execution_count": 32,
   "id": "2c03eb41",
   "metadata": {},
   "outputs": [
    {
     "data": {
      "text/plain": [
       "'  he '"
      ]
     },
     "execution_count": 32,
     "metadata": {},
     "output_type": "execute_result"
    }
   ],
   "source": [
    "'he'.center(5)"
   ]
  },
  {
   "cell_type": "markdown",
   "id": "251ca175",
   "metadata": {},
   "source": [
    "리스트"
   ]
  },
  {
   "cell_type": "markdown",
   "id": "5c78a0b2",
   "metadata": {},
   "source": [
    "리스트는 여러 개의 데이터를 하나의 이름으로 저장하는 자료 구조"
   ]
  },
  {
   "cell_type": "code",
   "execution_count": 2,
   "id": "612c59de",
   "metadata": {},
   "outputs": [
    {
     "data": {
      "text/plain": [
       "[1, 'hello', 2, 'world', 1.23]"
      ]
     },
     "execution_count": 2,
     "metadata": {},
     "output_type": "execute_result"
    }
   ],
   "source": [
    "odd=[1,3,5,7,9]\n",
    "squares=[1,4,9,16,25]\n",
    "squares\n",
    "[1,4,9,16,25]\n",
    "empty=[]\n",
    "empty\n",
    "[]\n",
    "a=[1,'hello', 2, 'world', 1.23]\n",
    "a"
   ]
  },
  {
   "cell_type": "markdown",
   "id": "e1c93f94",
   "metadata": {},
   "source": [
    "리스트의 인덱싱(요소 접근하기)과 슬라이싱(잘라내기)"
   ]
  },
  {
   "cell_type": "code",
   "execution_count": null,
   "id": "7b704e3c",
   "metadata": {},
   "outputs": [
    {
     "data": {
      "text/plain": [
       "[9, 16, 25]"
      ]
     },
     "execution_count": 8,
     "metadata": {},
     "output_type": "execute_result"
    }
   ],
   "source": [
    "squares=[1,4,9,16,25]\n",
    "squares[0]\n",
    "1\n",
    "squares[-1]\n",
    "25\n",
    "squares[0:3]\n",
    "[1,4,9]\n",
    "squares[-3:]\n",
    "[9,16,25]"
   ]
  },
  {
   "cell_type": "code",
   "execution_count": 11,
   "id": "31dbca6a",
   "metadata": {},
   "outputs": [
    {
     "data": {
      "text/plain": [
       "[1, 4, 9]"
      ]
     },
     "execution_count": 11,
     "metadata": {},
     "output_type": "execute_result"
    }
   ],
   "source": [
    "squares=[1,4,9,16,25]\n",
    "squares[0:3]"
   ]
  },
  {
   "cell_type": "markdown",
   "id": "5187312d",
   "metadata": {},
   "source": [
    "리스트 합치기"
   ]
  },
  {
   "cell_type": "code",
   "execution_count": null,
   "id": "7e9bd7ec",
   "metadata": {},
   "outputs": [
    {
     "data": {
      "text/plain": [
       "[1, 4, 9, 16, 25, 36, 49, 64, 81, 100]"
      ]
     },
     "execution_count": 12,
     "metadata": {},
     "output_type": "execute_result"
    }
   ],
   "source": [
    "squares+[36,49,64,81,100]\n",
    "[1,4,9,16,25,36,49,64,81,100]\n"
   ]
  },
  {
   "cell_type": "code",
   "execution_count": 14,
   "id": "7d4e421f",
   "metadata": {},
   "outputs": [
    {
     "data": {
      "text/plain": [
       "[1, 2, 3, 4, 5, 6]"
      ]
     },
     "execution_count": 14,
     "metadata": {},
     "output_type": "execute_result"
    }
   ],
   "source": [
    "a=[1,2,3]\n",
    "b=[4,5,6]\n",
    "a+b"
   ]
  },
  {
   "cell_type": "markdown",
   "id": "6ca7f5a6",
   "metadata": {},
   "source": [
    "리스트의 요소 수정, 추가하기\n"
   ]
  },
  {
   "cell_type": "code",
   "execution_count": 15,
   "id": "984bd909",
   "metadata": {},
   "outputs": [
    {
     "data": {
      "text/plain": [
       "64"
      ]
     },
     "execution_count": 15,
     "metadata": {},
     "output_type": "execute_result"
    }
   ],
   "source": [
    "cubes=[1,8,27,65,125]\n",
    "4**3"
   ]
  },
  {
   "cell_type": "code",
   "execution_count": 16,
   "id": "183a16dd",
   "metadata": {},
   "outputs": [
    {
     "data": {
      "text/plain": [
       "[1, 8, 27, 64, 125]"
      ]
     },
     "execution_count": 16,
     "metadata": {},
     "output_type": "execute_result"
    }
   ],
   "source": [
    "cubes[3]=64\n",
    "cubes"
   ]
  },
  {
   "cell_type": "code",
   "execution_count": 17,
   "id": "e866a809",
   "metadata": {},
   "outputs": [
    {
     "data": {
      "text/plain": [
       "[1, 8, 27, 64, 125, 216, 343]"
      ]
     },
     "execution_count": 17,
     "metadata": {},
     "output_type": "execute_result"
    }
   ],
   "source": [
    "cubes.append(216)\n",
    "cubes.append(7**3)\n",
    "cubes"
   ]
  },
  {
   "cell_type": "markdown",
   "id": "0b4ed36a",
   "metadata": {},
   "source": [
    "리스트의 요소 수정"
   ]
  },
  {
   "cell_type": "code",
   "execution_count": 18,
   "id": "a38890d6",
   "metadata": {},
   "outputs": [
    {
     "data": {
      "text/plain": [
       "[',a', 'b', 'c', 'd', 'e', 'f', 'g']"
      ]
     },
     "execution_count": 18,
     "metadata": {},
     "output_type": "execute_result"
    }
   ],
   "source": [
    "letters=[',a','b','c','d','e','f','g']\n",
    "letters"
   ]
  },
  {
   "cell_type": "code",
   "execution_count": 19,
   "id": "cd779e9a",
   "metadata": {},
   "outputs": [
    {
     "data": {
      "text/plain": [
       "[',a', 'b', 'C', 'D', 'E', 'f', 'g']"
      ]
     },
     "execution_count": 19,
     "metadata": {},
     "output_type": "execute_result"
    }
   ],
   "source": [
    "letters[2:5]=['C','D','E']\n",
    "letters"
   ]
  },
  {
   "cell_type": "code",
   "execution_count": 20,
   "id": "b818d298",
   "metadata": {},
   "outputs": [
    {
     "data": {
      "text/plain": [
       "[',a', 'b', 'f', 'g']"
      ]
     },
     "execution_count": 20,
     "metadata": {},
     "output_type": "execute_result"
    }
   ],
   "source": [
    "letters[2:5]=[]\n",
    "letters"
   ]
  },
  {
   "cell_type": "code",
   "execution_count": 21,
   "id": "df0ac1f1",
   "metadata": {},
   "outputs": [
    {
     "data": {
      "text/plain": [
       "[]"
      ]
     },
     "execution_count": 21,
     "metadata": {},
     "output_type": "execute_result"
    }
   ],
   "source": [
    "letters[:]=[]\n",
    "letters"
   ]
  },
  {
   "cell_type": "markdown",
   "id": "795b4eb4",
   "metadata": {},
   "source": [
    "중첩 리스트"
   ]
  },
  {
   "cell_type": "code",
   "execution_count": 22,
   "id": "2c14c37d",
   "metadata": {},
   "outputs": [
    {
     "data": {
      "text/plain": [
       "[['a', 'b', 'c'], [1, 2, 3]]"
      ]
     },
     "execution_count": 22,
     "metadata": {},
     "output_type": "execute_result"
    }
   ],
   "source": [
    "a=['a','b','c']\n",
    "n=[1,2,3]\n",
    "x=[a,n]\n",
    "x"
   ]
  },
  {
   "cell_type": "code",
   "execution_count": 23,
   "id": "afa46965",
   "metadata": {},
   "outputs": [
    {
     "data": {
      "text/plain": [
       "['a', 'b', 'c']"
      ]
     },
     "execution_count": 23,
     "metadata": {},
     "output_type": "execute_result"
    }
   ],
   "source": [
    "x[0]"
   ]
  },
  {
   "cell_type": "code",
   "execution_count": 24,
   "id": "049db3f3",
   "metadata": {},
   "outputs": [
    {
     "data": {
      "text/plain": [
       "'b'"
      ]
     },
     "execution_count": 24,
     "metadata": {},
     "output_type": "execute_result"
    }
   ],
   "source": [
    "x[0][1]"
   ]
  },
  {
   "cell_type": "markdown",
   "id": "326e19ab",
   "metadata": {},
   "source": [
    "2차원 리스트"
   ]
  },
  {
   "cell_type": "code",
   "execution_count": 26,
   "id": "98c0eb4a",
   "metadata": {},
   "outputs": [
    {
     "data": {
      "text/plain": [
       "1"
      ]
     },
     "execution_count": 26,
     "metadata": {},
     "output_type": "execute_result"
    }
   ],
   "source": [
    "list2d=[[1,2,3],[4,5,6],[7,8,9]]\n",
    "list2d[0][0]"
   ]
  },
  {
   "cell_type": "code",
   "execution_count": 27,
   "id": "9e741fc5",
   "metadata": {},
   "outputs": [
    {
     "data": {
      "text/plain": [
       "9"
      ]
     },
     "execution_count": 27,
     "metadata": {},
     "output_type": "execute_result"
    }
   ],
   "source": [
    "list2d[2][2]"
   ]
  },
  {
   "cell_type": "markdown",
   "id": "4f059428",
   "metadata": {},
   "source": [
    "내장 함수를 이용한 리스트 다루기"
   ]
  },
  {
   "cell_type": "code",
   "execution_count": 29,
   "id": "e014faef",
   "metadata": {},
   "outputs": [
    {
     "data": {
      "text/plain": [
       "4"
      ]
     },
     "execution_count": 29,
     "metadata": {},
     "output_type": "execute_result"
    }
   ],
   "source": [
    "letters=['a', 'b', 'c','d']\n",
    "len(letters)"
   ]
  },
  {
   "cell_type": "code",
   "execution_count": 30,
   "id": "ef424f61",
   "metadata": {},
   "outputs": [
    {
     "data": {
      "text/plain": [
       "15"
      ]
     },
     "execution_count": 30,
     "metadata": {},
     "output_type": "execute_result"
    }
   ],
   "source": [
    "num=[1,2,3,4,5]\n",
    "sum(num)"
   ]
  },
  {
   "cell_type": "code",
   "execution_count": 31,
   "id": "c6001c88",
   "metadata": {},
   "outputs": [
    {
     "data": {
      "text/plain": [
       "1"
      ]
     },
     "execution_count": 31,
     "metadata": {},
     "output_type": "execute_result"
    }
   ],
   "source": [
    "min(num)"
   ]
  },
  {
   "cell_type": "code",
   "execution_count": 33,
   "id": "e7f40e25",
   "metadata": {},
   "outputs": [
    {
     "data": {
      "text/plain": [
       "5"
      ]
     },
     "execution_count": 33,
     "metadata": {},
     "output_type": "execute_result"
    }
   ],
   "source": [
    "max(num)  "
   ]
  },
  {
   "cell_type": "markdown",
   "id": "69ce5139",
   "metadata": {},
   "source": [
    "리스트 순서"
   ]
  },
  {
   "cell_type": "markdown",
   "id": "930afc30",
   "metadata": {},
   "source": [
    "리스트 요소 순서 나열\n"
   ]
  },
  {
   "cell_type": "code",
   "execution_count": 34,
   "id": "d38e9a33",
   "metadata": {},
   "outputs": [
    {
     "name": "stdout",
     "output_type": "stream",
     "text": [
      "['bus', 'sedan', 'taxi', 'truck']\n"
     ]
    }
   ],
   "source": [
    "cars=['taxi', 'sedan', 'bus', 'truck']\n",
    "cars.sort()\n",
    "print(cars)"
   ]
  },
  {
   "cell_type": "code",
   "execution_count": 35,
   "id": "2043baae",
   "metadata": {},
   "outputs": [
    {
     "name": "stdout",
     "output_type": "stream",
     "text": [
      "['truck', 'taxi', 'sedan', 'bus']\n"
     ]
    }
   ],
   "source": [
    "cars.sort(reverse=True)\n",
    "print(cars)"
   ]
  },
  {
   "cell_type": "code",
   "execution_count": 36,
   "id": "c869f0be",
   "metadata": {},
   "outputs": [
    {
     "name": "stdout",
     "output_type": "stream",
     "text": [
      "Here is the original list:\n",
      "['truck', 'taxi', 'sedan', 'bus']\n",
      "\n",
      "Here is the sorted list:\n",
      "['bus', 'sedan', 'taxi', 'truck']\n",
      "\n",
      "Here is thr original list again:\n",
      "['truck', 'taxi', 'sedan', 'bus']\n"
     ]
    }
   ],
   "source": [
    "print(\"Here is the original list:\")\n",
    "print(cars)\n",
    "print(\"\\nHere is the sorted list:\")\n",
    "print(sorted(cars))\n",
    "print(\"\\nHere is thr original list again:\")\n",
    "print(cars)"
   ]
  },
  {
   "cell_type": "markdown",
   "id": "48a99f3b",
   "metadata": {},
   "source": [
    "리스트 역순으로 출력하기"
   ]
  },
  {
   "cell_type": "code",
   "execution_count": 38,
   "id": "46cc7b2e",
   "metadata": {},
   "outputs": [
    {
     "name": "stdout",
     "output_type": "stream",
     "text": [
      "['taxi', 'sedan', 'bus', 'truck']\n",
      "['truck', 'bus', 'sedan', 'taxi']\n"
     ]
    }
   ],
   "source": [
    "cars=['taxi', 'sedan', 'bus', 'truck']\n",
    "print(cars)\n",
    "cars.reverse()\n",
    "print(cars)"
   ]
  },
  {
   "cell_type": "code",
   "execution_count": null,
   "id": "a4e41b5a",
   "metadata": {},
   "outputs": [],
   "source": []
  }
 ],
 "metadata": {
  "kernelspec": {
   "display_name": "Python 3",
   "language": "python",
   "name": "python3"
  },
  "language_info": {
   "codemirror_mode": {
    "name": "ipython",
    "version": 3
   },
   "file_extension": ".py",
   "mimetype": "text/x-python",
   "name": "python",
   "nbconvert_exporter": "python",
   "pygments_lexer": "ipython3",
   "version": "3.11.9"
  }
 },
 "nbformat": 4,
 "nbformat_minor": 5
}
